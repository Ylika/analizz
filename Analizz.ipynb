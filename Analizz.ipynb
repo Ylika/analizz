{
 "cells": [
  {
   "cell_type": "code",
   "execution_count": 1,
   "id": "e95913f7",
   "metadata": {},
   "outputs": [
    {
     "name": "stdout",
     "output_type": "stream",
     "text": [
      "hellow Edward\n"
     ]
    }
   ],
   "source": [
    "print ('hellow Edward')"
   ]
  },
  {
   "cell_type": "code",
   "execution_count": 2,
   "id": "78c0105a",
   "metadata": {},
   "outputs": [],
   "source": [
    "import pandas as pd\n",
    "import numpy as np\n",
    "# Python ≥3.5 is required\n",
    "import sys\n",
    "assert sys.version_info >= (3, 5)\n",
    "\n",
    "# Scikit-Learn ≥0.20 is required\n",
    "import sklearn\n",
    "assert sklearn.__version__ >= \"0.20\"\n",
    "import seaborn as sns\n",
    "# Common imports\n",
    "import numpy as np\n",
    "import os\n",
    "%matplotlib inline"
   ]
  },
  {
   "cell_type": "code",
   "execution_count": 3,
   "id": "180f31a1",
   "metadata": {},
   "outputs": [],
   "source": [
    "#load data\n",
    "data2021 = pd.read_excel('C:\\\\Users\\\\secr_de\\\\OneDrive\\\\analizz\\\\client21.xlsx')\n",
    "data2022 = pd.read_excel('C:\\\\Users\\\\secr_de\\\\OneDrive\\\\analizz\\\\client22.xlsx')\n",
    "all_manager_22 = pd.read_excel('C:\\\\Users\\\\secr_de\\\\OneDrive\\\\analizz\\\\Allmanager.xlsx',index_col=0)"
   ]
  },
  {
   "cell_type": "code",
   "execution_count": 4,
   "id": "11d58353",
   "metadata": {},
   "outputs": [],
   "source": [
    "#merge\n",
    "data2122 = pd.merge(data2021,data2022, how='outer', on='клиент')"
   ]
  },
  {
   "cell_type": "code",
   "execution_count": 5,
   "id": "768cdae4",
   "metadata": {
    "scrolled": true
   },
   "outputs": [
    {
     "data": {
      "text/html": [
       "<div>\n",
       "<style scoped>\n",
       "    .dataframe tbody tr th:only-of-type {\n",
       "        vertical-align: middle;\n",
       "    }\n",
       "\n",
       "    .dataframe tbody tr th {\n",
       "        vertical-align: top;\n",
       "    }\n",
       "\n",
       "    .dataframe thead th {\n",
       "        text-align: right;\n",
       "    }\n",
       "</style>\n",
       "<table border=\"1\" class=\"dataframe\">\n",
       "  <thead>\n",
       "    <tr style=\"text-align: right;\">\n",
       "      <th></th>\n",
       "      <th>клиент</th>\n",
       "      <th>Выручка21</th>\n",
       "      <th>Выручка22</th>\n",
       "    </tr>\n",
       "  </thead>\n",
       "  <tbody>\n",
       "    <tr>\n",
       "      <th>0</th>\n",
       "      <td>Ника-Мед ООО г.Комсомольск-на-Амуре</td>\n",
       "      <td>1855434.0</td>\n",
       "      <td>2544813.00</td>\n",
       "    </tr>\n",
       "    <tr>\n",
       "      <th>1</th>\n",
       "      <td>ДентМастер ООО г.Биробиджан</td>\n",
       "      <td>935679.4</td>\n",
       "      <td>657519.00</td>\n",
       "    </tr>\n",
       "    <tr>\n",
       "      <th>2</th>\n",
       "      <td>Авторская стоматология ООО г.Хабаровск</td>\n",
       "      <td>716589.0</td>\n",
       "      <td>181349.01</td>\n",
       "    </tr>\n",
       "    <tr>\n",
       "      <th>3</th>\n",
       "      <td>Дентал-Сервис ООО г.Биробиджан</td>\n",
       "      <td>712288.0</td>\n",
       "      <td>624043.00</td>\n",
       "    </tr>\n",
       "    <tr>\n",
       "      <th>4</th>\n",
       "      <td>Тари-КОМ ООО г.Комсомольск-на-Амуре</td>\n",
       "      <td>685871.3</td>\n",
       "      <td>620380.00</td>\n",
       "    </tr>\n",
       "    <tr>\n",
       "      <th>5</th>\n",
       "      <td>Лобанов Евгений Александрович ИП г.Комсомольск...</td>\n",
       "      <td>634000.0</td>\n",
       "      <td>129658.00</td>\n",
       "    </tr>\n",
       "    <tr>\n",
       "      <th>6</th>\n",
       "      <td>СК Стоматологический центр Стом. клиника \"Зелё...</td>\n",
       "      <td>601150.0</td>\n",
       "      <td>522187.00</td>\n",
       "    </tr>\n",
       "    <tr>\n",
       "      <th>7</th>\n",
       "      <td>Стомадент ООО г.Хабаровск</td>\n",
       "      <td>572277.0</td>\n",
       "      <td>339697.00</td>\n",
       "    </tr>\n",
       "    <tr>\n",
       "      <th>8</th>\n",
       "      <td>Здоровье ООО г.Свободный</td>\n",
       "      <td>551035.0</td>\n",
       "      <td>277737.00</td>\n",
       "    </tr>\n",
       "    <tr>\n",
       "      <th>9</th>\n",
       "      <td>МАХАОН ООО  Еврейская область п.Николаевка</td>\n",
       "      <td>539421.0</td>\n",
       "      <td>93353.00</td>\n",
       "    </tr>\n",
       "  </tbody>\n",
       "</table>\n",
       "</div>"
      ],
      "text/plain": [
       "                                              клиент  Выручка21   Выручка22\n",
       "0                Ника-Мед ООО г.Комсомольск-на-Амуре  1855434.0  2544813.00\n",
       "1                        ДентМастер ООО г.Биробиджан   935679.4   657519.00\n",
       "2             Авторская стоматология ООО г.Хабаровск   716589.0   181349.01\n",
       "3                     Дентал-Сервис ООО г.Биробиджан   712288.0   624043.00\n",
       "4                Тари-КОМ ООО г.Комсомольск-на-Амуре   685871.3   620380.00\n",
       "5  Лобанов Евгений Александрович ИП г.Комсомольск...   634000.0   129658.00\n",
       "6  СК Стоматологический центр Стом. клиника \"Зелё...   601150.0   522187.00\n",
       "7                          Стомадент ООО г.Хабаровск   572277.0   339697.00\n",
       "8                           Здоровье ООО г.Свободный   551035.0   277737.00\n",
       "9         МАХАОН ООО  Еврейская область п.Николаевка   539421.0    93353.00"
      ]
     },
     "execution_count": 5,
     "metadata": {},
     "output_type": "execute_result"
    }
   ],
   "source": [
    "data2122.head(10)"
   ]
  },
  {
   "cell_type": "code",
   "execution_count": 32,
   "id": "b986b231",
   "metadata": {},
   "outputs": [],
   "source": [
    "#drop NA and fill the cells 0\n",
    "#data2122 = data2122.dropna()\n",
    "data2122 = data2122.fillna(0)"
   ]
  },
  {
   "cell_type": "code",
   "execution_count": 33,
   "id": "0e6ecb55",
   "metadata": {},
   "outputs": [],
   "source": [
    "#to EXCEL\n",
    "data2122.to_excel('miks.xlsx')"
   ]
  },
  {
   "cell_type": "code",
   "execution_count": 34,
   "id": "95d2f4fa",
   "metadata": {},
   "outputs": [
    {
     "name": "stdout",
     "output_type": "stream",
     "text": [
      "<class 'pandas.core.frame.DataFrame'>\n",
      "Int64Index: 222 entries, 0 to 295\n",
      "Data columns (total 3 columns):\n",
      " #   Column     Non-Null Count  Dtype  \n",
      "---  ------     --------------  -----  \n",
      " 0   клиент     222 non-null    object \n",
      " 1   Выручка21  222 non-null    float64\n",
      " 2   Выручка22  222 non-null    float64\n",
      "dtypes: float64(2), object(1)\n",
      "memory usage: 6.9+ KB\n"
     ]
    }
   ],
   "source": [
    "data2122.info()"
   ]
  },
  {
   "cell_type": "code",
   "execution_count": 35,
   "id": "ef9cd2cf",
   "metadata": {},
   "outputs": [
    {
     "data": {
      "text/html": [
       "<div>\n",
       "<style scoped>\n",
       "    .dataframe tbody tr th:only-of-type {\n",
       "        vertical-align: middle;\n",
       "    }\n",
       "\n",
       "    .dataframe tbody tr th {\n",
       "        vertical-align: top;\n",
       "    }\n",
       "\n",
       "    .dataframe thead th {\n",
       "        text-align: right;\n",
       "    }\n",
       "</style>\n",
       "<table border=\"1\" class=\"dataframe\">\n",
       "  <thead>\n",
       "    <tr style=\"text-align: right;\">\n",
       "      <th></th>\n",
       "      <th>Выручка21</th>\n",
       "      <th>Выручка22</th>\n",
       "    </tr>\n",
       "  </thead>\n",
       "  <tbody>\n",
       "    <tr>\n",
       "      <th>count</th>\n",
       "      <td>2.220000e+02</td>\n",
       "      <td>2.220000e+02</td>\n",
       "    </tr>\n",
       "    <tr>\n",
       "      <th>mean</th>\n",
       "      <td>2.411792e+05</td>\n",
       "      <td>2.624540e+05</td>\n",
       "    </tr>\n",
       "    <tr>\n",
       "      <th>std</th>\n",
       "      <td>2.817560e+05</td>\n",
       "      <td>3.027178e+05</td>\n",
       "    </tr>\n",
       "    <tr>\n",
       "      <th>min</th>\n",
       "      <td>2.283000e+03</td>\n",
       "      <td>1.400000e+03</td>\n",
       "    </tr>\n",
       "    <tr>\n",
       "      <th>25%</th>\n",
       "      <td>5.898300e+04</td>\n",
       "      <td>7.815975e+04</td>\n",
       "    </tr>\n",
       "    <tr>\n",
       "      <th>50%</th>\n",
       "      <td>1.546360e+05</td>\n",
       "      <td>1.727175e+05</td>\n",
       "    </tr>\n",
       "    <tr>\n",
       "      <th>75%</th>\n",
       "      <td>3.313890e+05</td>\n",
       "      <td>3.197222e+05</td>\n",
       "    </tr>\n",
       "    <tr>\n",
       "      <th>max</th>\n",
       "      <td>2.265063e+06</td>\n",
       "      <td>2.544813e+06</td>\n",
       "    </tr>\n",
       "  </tbody>\n",
       "</table>\n",
       "</div>"
      ],
      "text/plain": [
       "          Выручка21     Выручка22\n",
       "count  2.220000e+02  2.220000e+02\n",
       "mean   2.411792e+05  2.624540e+05\n",
       "std    2.817560e+05  3.027178e+05\n",
       "min    2.283000e+03  1.400000e+03\n",
       "25%    5.898300e+04  7.815975e+04\n",
       "50%    1.546360e+05  1.727175e+05\n",
       "75%    3.313890e+05  3.197222e+05\n",
       "max    2.265063e+06  2.544813e+06"
      ]
     },
     "execution_count": 35,
     "metadata": {},
     "output_type": "execute_result"
    }
   ],
   "source": [
    "data2122.describe()"
   ]
  },
  {
   "cell_type": "code",
   "execution_count": 36,
   "id": "48bad056",
   "metadata": {},
   "outputs": [
    {
     "data": {
      "text/html": [
       "<div>\n",
       "<style scoped>\n",
       "    .dataframe tbody tr th:only-of-type {\n",
       "        vertical-align: middle;\n",
       "    }\n",
       "\n",
       "    .dataframe tbody tr th {\n",
       "        vertical-align: top;\n",
       "    }\n",
       "\n",
       "    .dataframe thead th {\n",
       "        text-align: right;\n",
       "    }\n",
       "</style>\n",
       "<table border=\"1\" class=\"dataframe\">\n",
       "  <thead>\n",
       "    <tr style=\"text-align: right;\">\n",
       "      <th></th>\n",
       "      <th>Выручка22</th>\n",
       "    </tr>\n",
       "  </thead>\n",
       "  <tbody>\n",
       "    <tr>\n",
       "      <th>count</th>\n",
       "      <td>2.260000e+02</td>\n",
       "    </tr>\n",
       "    <tr>\n",
       "      <th>mean</th>\n",
       "      <td>2.514328e+05</td>\n",
       "    </tr>\n",
       "    <tr>\n",
       "      <th>std</th>\n",
       "      <td>2.970186e+05</td>\n",
       "    </tr>\n",
       "    <tr>\n",
       "      <th>min</th>\n",
       "      <td>1.400000e+03</td>\n",
       "    </tr>\n",
       "    <tr>\n",
       "      <th>25%</th>\n",
       "      <td>7.167725e+04</td>\n",
       "    </tr>\n",
       "    <tr>\n",
       "      <th>50%</th>\n",
       "      <td>1.577615e+05</td>\n",
       "    </tr>\n",
       "    <tr>\n",
       "      <th>75%</th>\n",
       "      <td>3.182360e+05</td>\n",
       "    </tr>\n",
       "    <tr>\n",
       "      <th>max</th>\n",
       "      <td>2.544813e+06</td>\n",
       "    </tr>\n",
       "  </tbody>\n",
       "</table>\n",
       "</div>"
      ],
      "text/plain": [
       "          Выручка22\n",
       "count  2.260000e+02\n",
       "mean   2.514328e+05\n",
       "std    2.970186e+05\n",
       "min    1.400000e+03\n",
       "25%    7.167725e+04\n",
       "50%    1.577615e+05\n",
       "75%    3.182360e+05\n",
       "max    2.544813e+06"
      ]
     },
     "execution_count": 36,
     "metadata": {},
     "output_type": "execute_result"
    }
   ],
   "source": [
    "data2022.describe()"
   ]
  },
  {
   "cell_type": "code",
   "execution_count": 37,
   "id": "d1b8eda4",
   "metadata": {},
   "outputs": [
    {
     "data": {
      "text/html": [
       "<div>\n",
       "<style scoped>\n",
       "    .dataframe tbody tr th:only-of-type {\n",
       "        vertical-align: middle;\n",
       "    }\n",
       "\n",
       "    .dataframe tbody tr th {\n",
       "        vertical-align: top;\n",
       "    }\n",
       "\n",
       "    .dataframe thead th {\n",
       "        text-align: right;\n",
       "    }\n",
       "</style>\n",
       "<table border=\"1\" class=\"dataframe\">\n",
       "  <thead>\n",
       "    <tr style=\"text-align: right;\">\n",
       "      <th></th>\n",
       "      <th>Выручка21</th>\n",
       "    </tr>\n",
       "  </thead>\n",
       "  <tbody>\n",
       "    <tr>\n",
       "      <th>count</th>\n",
       "      <td>2.370000e+02</td>\n",
       "    </tr>\n",
       "    <tr>\n",
       "      <th>mean</th>\n",
       "      <td>2.224567e+05</td>\n",
       "    </tr>\n",
       "    <tr>\n",
       "      <th>std</th>\n",
       "      <td>2.791905e+05</td>\n",
       "    </tr>\n",
       "    <tr>\n",
       "      <th>min</th>\n",
       "      <td>1.000000e+02</td>\n",
       "    </tr>\n",
       "    <tr>\n",
       "      <th>25%</th>\n",
       "      <td>4.573800e+04</td>\n",
       "    </tr>\n",
       "    <tr>\n",
       "      <th>50%</th>\n",
       "      <td>1.291990e+05</td>\n",
       "    </tr>\n",
       "    <tr>\n",
       "      <th>75%</th>\n",
       "      <td>3.178160e+05</td>\n",
       "    </tr>\n",
       "    <tr>\n",
       "      <th>max</th>\n",
       "      <td>2.265063e+06</td>\n",
       "    </tr>\n",
       "  </tbody>\n",
       "</table>\n",
       "</div>"
      ],
      "text/plain": [
       "          Выручка21\n",
       "count  2.370000e+02\n",
       "mean   2.224567e+05\n",
       "std    2.791905e+05\n",
       "min    1.000000e+02\n",
       "25%    4.573800e+04\n",
       "50%    1.291990e+05\n",
       "75%    3.178160e+05\n",
       "max    2.265063e+06"
      ]
     },
     "execution_count": 37,
     "metadata": {},
     "output_type": "execute_result"
    }
   ],
   "source": [
    "data2021.describe()"
   ]
  },
  {
   "cell_type": "code",
   "execution_count": 38,
   "id": "bfc82660",
   "metadata": {},
   "outputs": [],
   "source": [
    "import seaborn as sns"
   ]
  },
  {
   "cell_type": "code",
   "execution_count": 39,
   "id": "e3a6d7dd",
   "metadata": {},
   "outputs": [
    {
     "data": {
      "text/plain": [
       "<AxesSubplot:xlabel='Выручка21', ylabel='Count'>"
      ]
     },
     "execution_count": 39,
     "metadata": {},
     "output_type": "execute_result"
    },
    {
     "data": {
      "image/png": "[encoded data removed]",
      "text/plain": [
       "<Figure size 640x480 with 1 Axes>"
      ]
     },
     "metadata": {},
     "output_type": "display_data"
    }
   ],
   "source": [
    "sns.histplot(data2122['Выручка21'])"
   ]
  },
  {
   "cell_type": "code",
   "execution_count": 40,
   "id": "84371c81",
   "metadata": {},
   "outputs": [
    {
     "data": {
      "text/plain": [
       "<AxesSubplot:xlabel='Выручка22', ylabel='Count'>"
      ]
     },
     "execution_count": 40,
     "metadata": {},
     "output_type": "execute_result"
    },
    {
     "data": {
      "image/png": "[encoded data removed]",
      "text/plain": [
       "<Figure size 640x480 with 1 Axes>"
      ]
     },
     "metadata": {},
     "output_type": "display_data"
    }
   ],
   "source": [
    "sns.histplot(data2122['Выручка22'])"
   ]
  },
  {
   "cell_type": "code",
   "execution_count": 41,
   "id": "96f65c75",
   "metadata": {},
   "outputs": [
    {
     "name": "stderr",
     "output_type": "stream",
     "text": [
      "C:\\Users\\secr_de\\anaconda3\\lib\\site-packages\\seaborn\\distributions.py:2619: FutureWarning: `distplot` is a deprecated function and will be removed in a future version. Please adapt your code to use either `displot` (a figure-level function with similar flexibility) or `histplot` (an axes-level function for histograms).\n",
      "  warnings.warn(msg, FutureWarning)\n"
     ]
    },
    {
     "data": {
      "text/plain": [
       "<AxesSubplot:xlabel='Выручка22', ylabel='Density'>"
      ]
     },
     "execution_count": 41,
     "metadata": {},
     "output_type": "execute_result"
    },
    {
     "data": {
      "image/png": "[encoded data removed]",
      "text/plain": [
       "<Figure size 640x480 with 1 Axes>"
      ]
     },
     "metadata": {},
     "output_type": "display_data"
    }
   ],
   "source": [
    "sns.distplot(data2122['Выручка22'])"
   ]
  },
  {
   "cell_type": "code",
   "execution_count": 42,
   "id": "741ea695",
   "metadata": {},
   "outputs": [],
   "source": [
    "from scipy import stats\n"
   ]
  },
  {
   "cell_type": "code",
   "execution_count": 43,
   "id": "b7ba9cb1",
   "metadata": {},
   "outputs": [],
   "source": [
    "#Load data manager for var\n",
    "manager = pd.read_excel('C:\\\\Users\\\\secr_de\\\\OneDrive\\\\analizz\\\\manger.xlsx')"
   ]
  },
  {
   "cell_type": "code",
   "execution_count": 44,
   "id": "32316343",
   "metadata": {},
   "outputs": [
    {
     "data": {
      "text/html": [
       "<div>\n",
       "<style scoped>\n",
       "    .dataframe tbody tr th:only-of-type {\n",
       "        vertical-align: middle;\n",
       "    }\n",
       "\n",
       "    .dataframe tbody tr th {\n",
       "        vertical-align: top;\n",
       "    }\n",
       "\n",
       "    .dataframe thead th {\n",
       "        text-align: right;\n",
       "    }\n",
       "</style>\n",
       "<table border=\"1\" class=\"dataframe\">\n",
       "  <thead>\n",
       "    <tr style=\"text-align: right;\">\n",
       "      <th></th>\n",
       "      <th>1</th>\n",
       "      <th>2</th>\n",
       "      <th>3</th>\n",
       "      <th>4</th>\n",
       "      <th>5</th>\n",
       "      <th>6</th>\n",
       "      <th>7</th>\n",
       "      <th>8</th>\n",
       "      <th>9</th>\n",
       "      <th>10</th>\n",
       "      <th>11</th>\n",
       "      <th>12</th>\n",
       "    </tr>\n",
       "  </thead>\n",
       "  <tbody>\n",
       "    <tr>\n",
       "      <th>0</th>\n",
       "      <td>1253371.83</td>\n",
       "      <td>1.304779e+06</td>\n",
       "      <td>2.044621e+06</td>\n",
       "      <td>1.019048e+06</td>\n",
       "      <td>1.050815e+06</td>\n",
       "      <td>1699636.00</td>\n",
       "      <td>2026911.51</td>\n",
       "      <td>1056562.0</td>\n",
       "      <td>2373136.02</td>\n",
       "      <td>1782851.95</td>\n",
       "      <td>1883978.71</td>\n",
       "      <td>1801057.12</td>\n",
       "    </tr>\n",
       "    <tr>\n",
       "      <th>1</th>\n",
       "      <td>1224756.04</td>\n",
       "      <td>1.329883e+06</td>\n",
       "      <td>1.956355e+06</td>\n",
       "      <td>3.030052e+06</td>\n",
       "      <td>1.943542e+06</td>\n",
       "      <td>2453945.10</td>\n",
       "      <td>1887655.00</td>\n",
       "      <td>1735397.4</td>\n",
       "      <td>2747183.00</td>\n",
       "      <td>1728196.39</td>\n",
       "      <td>1854217.90</td>\n",
       "      <td>1981449.20</td>\n",
       "    </tr>\n",
       "    <tr>\n",
       "      <th>2</th>\n",
       "      <td>1498428.71</td>\n",
       "      <td>1.644201e+06</td>\n",
       "      <td>1.788360e+06</td>\n",
       "      <td>2.129351e+06</td>\n",
       "      <td>1.999204e+06</td>\n",
       "      <td>1195338.05</td>\n",
       "      <td>1529108.90</td>\n",
       "      <td>682054.5</td>\n",
       "      <td>1459914.02</td>\n",
       "      <td>1520205.70</td>\n",
       "      <td>915583.65</td>\n",
       "      <td>1487670.57</td>\n",
       "    </tr>\n",
       "    <tr>\n",
       "      <th>3</th>\n",
       "      <td>1853226.00</td>\n",
       "      <td>1.426288e+06</td>\n",
       "      <td>1.929778e+06</td>\n",
       "      <td>2.059484e+06</td>\n",
       "      <td>1.664520e+06</td>\n",
       "      <td>1782973.05</td>\n",
       "      <td>1846037.00</td>\n",
       "      <td>1347941.0</td>\n",
       "      <td>1870113.40</td>\n",
       "      <td>2390358.00</td>\n",
       "      <td>1669463.00</td>\n",
       "      <td>2662427.00</td>\n",
       "    </tr>\n",
       "  </tbody>\n",
       "</table>\n",
       "</div>"
      ],
      "text/plain": [
       "           1             2             3             4             5   \\\n",
       "0  1253371.83  1.304779e+06  2.044621e+06  1.019048e+06  1.050815e+06   \n",
       "1  1224756.04  1.329883e+06  1.956355e+06  3.030052e+06  1.943542e+06   \n",
       "2  1498428.71  1.644201e+06  1.788360e+06  2.129351e+06  1.999204e+06   \n",
       "3  1853226.00  1.426288e+06  1.929778e+06  2.059484e+06  1.664520e+06   \n",
       "\n",
       "           6           7          8           9           10          11  \\\n",
       "0  1699636.00  2026911.51  1056562.0  2373136.02  1782851.95  1883978.71   \n",
       "1  2453945.10  1887655.00  1735397.4  2747183.00  1728196.39  1854217.90   \n",
       "2  1195338.05  1529108.90   682054.5  1459914.02  1520205.70   915583.65   \n",
       "3  1782973.05  1846037.00  1347941.0  1870113.40  2390358.00  1669463.00   \n",
       "\n",
       "           12  \n",
       "0  1801057.12  \n",
       "1  1981449.20  \n",
       "2  1487670.57  \n",
       "3  2662427.00  "
      ]
     },
     "execution_count": 44,
     "metadata": {},
     "output_type": "execute_result"
    }
   ],
   "source": [
    "\n",
    "manager.head()"
   ]
  },
  {
   "cell_type": "code",
   "execution_count": 45,
   "id": "bd037bcd",
   "metadata": {},
   "outputs": [
    {
     "data": {
      "text/plain": [
       "1     1253371.83\n",
       "2     1304778.99\n",
       "3     2044620.65\n",
       "4     1019047.95\n",
       "5     1050814.96\n",
       "6     1699636.00\n",
       "7     2026911.51\n",
       "8     1056562.00\n",
       "9     2373136.02\n",
       "10    1782851.95\n",
       "11    1883978.71\n",
       "12    1801057.12\n",
       "Name: 0, dtype: float64"
      ]
     },
     "execution_count": 45,
     "metadata": {},
     "output_type": "execute_result"
    }
   ],
   "source": [
    "manager.iloc[0]"
   ]
  },
  {
   "cell_type": "code",
   "execution_count": 46,
   "id": "ec6d6a53",
   "metadata": {},
   "outputs": [],
   "source": [
    "ndarr=np.array(manager.loc[0])\n",
    "ndarr1=np.array(manager.loc[1])\n",
    "ndarr2=np.array(manager.loc[2])\n",
    "ndarr3=np.array(manager.loc[3])"
   ]
  },
  {
   "cell_type": "code",
   "execution_count": 47,
   "id": "e63b1df9",
   "metadata": {},
   "outputs": [
    {
     "data": {
      "text/plain": [
       "KruskalResult(statistic=7.344387755102019, pvalue=0.06169453353258112)"
      ]
     },
     "execution_count": 47,
     "metadata": {},
     "output_type": "execute_result"
    }
   ],
   "source": [
    "#Var\n",
    "stats.kruskal(ndarr,ndarr1,ndarr2,ndarr3)\n"
   ]
  },
  {
   "cell_type": "code",
   "execution_count": 48,
   "id": "ee3d559d",
   "metadata": {},
   "outputs": [],
   "source": [
    "arr21=np.array(data2122['Выручка21'])\n",
    "arr22=np.array(data2122['Выручка22'])"
   ]
  },
  {
   "cell_type": "code",
   "execution_count": 49,
   "id": "c818400d",
   "metadata": {},
   "outputs": [
    {
     "data": {
      "text/plain": [
       "KruskalResult(statistic=1.25006364523843, pvalue=0.2635403217365058)"
      ]
     },
     "execution_count": 49,
     "metadata": {},
     "output_type": "execute_result"
    }
   ],
   "source": [
    "stats.kruskal(arr21,arr22)"
   ]
  },
  {
   "cell_type": "code",
   "execution_count": 50,
   "id": "eec82df6",
   "metadata": {},
   "outputs": [
    {
     "data": {
      "text/html": [
       "<div>\n",
       "<style scoped>\n",
       "    .dataframe tbody tr th:only-of-type {\n",
       "        vertical-align: middle;\n",
       "    }\n",
       "\n",
       "    .dataframe tbody tr th {\n",
       "        vertical-align: top;\n",
       "    }\n",
       "\n",
       "    .dataframe thead th {\n",
       "        text-align: right;\n",
       "    }\n",
       "</style>\n",
       "<table border=\"1\" class=\"dataframe\">\n",
       "  <thead>\n",
       "    <tr style=\"text-align: right;\">\n",
       "      <th></th>\n",
       "      <th>клиент</th>\n",
       "      <th>Выручка21</th>\n",
       "      <th>Выручка22</th>\n",
       "    </tr>\n",
       "  </thead>\n",
       "  <tbody>\n",
       "  </tbody>\n",
       "</table>\n",
       "</div>"
      ],
      "text/plain": [
       "Empty DataFrame\n",
       "Columns: [клиент, Выручка21, Выручка22]\n",
       "Index: []"
      ]
     },
     "execution_count": 50,
     "metadata": {},
     "output_type": "execute_result"
    }
   ],
   "source": [
    "data2122[data2122['Выручка22']==0]"
   ]
  },
  {
   "cell_type": "code",
   "execution_count": 25,
   "id": "1eac3e76",
   "metadata": {},
   "outputs": [
    {
     "data": {
      "text/plain": [
       "array([<AxesSubplot:ylabel='Frequency'>, <AxesSubplot:ylabel='Frequency'>],\n",
       "      dtype=object)"
      ]
     },
     "execution_count": 25,
     "metadata": {},
     "output_type": "execute_result"
    },
    {
     "data": {
      "image/png": "[encoded data removed]",
      "text/plain": [
       "<Figure size 640x480 with 2 Axes>"
      ]
     },
     "metadata": {},
     "output_type": "display_data"
    }
   ],
   "source": [
    "data2122.plot.hist(subplots=True)"
   ]
  },
  {
   "cell_type": "code",
   "execution_count": 26,
   "id": "d767d88b",
   "metadata": {},
   "outputs": [
    {
     "data": {
      "text/plain": [
       "array([<AxesSubplot:>, <AxesSubplot:>], dtype=object)"
      ]
     },
     "execution_count": 26,
     "metadata": {},
     "output_type": "execute_result"
    },
    {
     "data": {
      "image/png": "[encoded data removed]",
      "text/plain": [
       "<Figure size 640x480 with 2 Axes>"
      ]
     },
     "metadata": {},
     "output_type": "display_data"
    }
   ],
   "source": [
    "data2122.plot(subplots=True)"
   ]
  },
  {
   "cell_type": "code",
   "execution_count": 27,
   "id": "ba4536cb",
   "metadata": {},
   "outputs": [
    {
     "data": {
      "text/html": [
       "<style type=\"text/css\">\n",
       "#T_743d4_row0_col0 {\n",
       "  background-color: #280592;\n",
       "  color: #f1f1f1;\n",
       "}\n",
       "#T_743d4_row0_col1, #T_743d4_row0_col3, #T_743d4_row0_col4, #T_743d4_row1_col0, #T_743d4_row2_col2, #T_743d4_row2_col5, #T_743d4_row2_col6, #T_743d4_row2_col7, #T_743d4_row2_col8, #T_743d4_row2_col9, #T_743d4_row2_col10, #T_743d4_row2_col11 {\n",
       "  background-color: #0d0887;\n",
       "  color: #f1f1f1;\n",
       "}\n",
       "#T_743d4_row0_col2, #T_743d4_row0_col6, #T_743d4_row0_col10, #T_743d4_row1_col3, #T_743d4_row1_col5, #T_743d4_row1_col7, #T_743d4_row1_col8, #T_743d4_row2_col1, #T_743d4_row2_col4, #T_743d4_row3_col0, #T_743d4_row3_col9, #T_743d4_row3_col11 {\n",
       "  background-color: #f0f921;\n",
       "  color: #000000;\n",
       "}\n",
       "#T_743d4_row0_col5 {\n",
       "  background-color: #b12a90;\n",
       "  color: #f1f1f1;\n",
       "}\n",
       "#T_743d4_row0_col7, #T_743d4_row3_col1 {\n",
       "  background-color: #a31e9a;\n",
       "  color: #f1f1f1;\n",
       "}\n",
       "#T_743d4_row0_col8 {\n",
       "  background-color: #f3874a;\n",
       "  color: #f1f1f1;\n",
       "}\n",
       "#T_743d4_row0_col9 {\n",
       "  background-color: #910ea3;\n",
       "  color: #f1f1f1;\n",
       "}\n",
       "#T_743d4_row0_col11 {\n",
       "  background-color: #8405a7;\n",
       "  color: #f1f1f1;\n",
       "}\n",
       "#T_743d4_row1_col1 {\n",
       "  background-color: #350498;\n",
       "  color: #f1f1f1;\n",
       "}\n",
       "#T_743d4_row1_col2 {\n",
       "  background-color: #eb7556;\n",
       "  color: #f1f1f1;\n",
       "}\n",
       "#T_743d4_row1_col4 {\n",
       "  background-color: #f8df25;\n",
       "  color: #000000;\n",
       "}\n",
       "#T_743d4_row1_col6 {\n",
       "  background-color: #f58b47;\n",
       "  color: #f1f1f1;\n",
       "}\n",
       "#T_743d4_row1_col9 {\n",
       "  background-color: #7a02a8;\n",
       "  color: #f1f1f1;\n",
       "}\n",
       "#T_743d4_row1_col10 {\n",
       "  background-color: #f4ed27;\n",
       "  color: #000000;\n",
       "}\n",
       "#T_743d4_row1_col11 {\n",
       "  background-color: #b6308b;\n",
       "  color: #f1f1f1;\n",
       "}\n",
       "#T_743d4_row2_col0 {\n",
       "  background-color: #bb3488;\n",
       "  color: #f1f1f1;\n",
       "}\n",
       "#T_743d4_row2_col3, #T_743d4_row3_col2 {\n",
       "  background-color: #d7566c;\n",
       "  color: #f1f1f1;\n",
       "}\n",
       "#T_743d4_row3_col3 {\n",
       "  background-color: #cf4c74;\n",
       "  color: #f1f1f1;\n",
       "}\n",
       "#T_743d4_row3_col4 {\n",
       "  background-color: #e97257;\n",
       "  color: #f1f1f1;\n",
       "}\n",
       "#T_743d4_row3_col5 {\n",
       "  background-color: #c33d80;\n",
       "  color: #f1f1f1;\n",
       "}\n",
       "#T_743d4_row3_col6 {\n",
       "  background-color: #e76f5a;\n",
       "  color: #f1f1f1;\n",
       "}\n",
       "#T_743d4_row3_col7 {\n",
       "  background-color: #e76e5b;\n",
       "  color: #f1f1f1;\n",
       "}\n",
       "#T_743d4_row3_col8 {\n",
       "  background-color: #9613a1;\n",
       "  color: #f1f1f1;\n",
       "}\n",
       "#T_743d4_row3_col10 {\n",
       "  background-color: #fb9f3a;\n",
       "  color: #000000;\n",
       "}\n",
       "</style>\n",
       "<table id=\"T_743d4\">\n",
       "  <thead>\n",
       "    <tr>\n",
       "      <th class=\"blank level0\" >&nbsp;</th>\n",
       "      <th id=\"T_743d4_level0_col0\" class=\"col_heading level0 col0\" >1</th>\n",
       "      <th id=\"T_743d4_level0_col1\" class=\"col_heading level0 col1\" >2</th>\n",
       "      <th id=\"T_743d4_level0_col2\" class=\"col_heading level0 col2\" >3</th>\n",
       "      <th id=\"T_743d4_level0_col3\" class=\"col_heading level0 col3\" >4</th>\n",
       "      <th id=\"T_743d4_level0_col4\" class=\"col_heading level0 col4\" >5</th>\n",
       "      <th id=\"T_743d4_level0_col5\" class=\"col_heading level0 col5\" >6</th>\n",
       "      <th id=\"T_743d4_level0_col6\" class=\"col_heading level0 col6\" >7</th>\n",
       "      <th id=\"T_743d4_level0_col7\" class=\"col_heading level0 col7\" >8</th>\n",
       "      <th id=\"T_743d4_level0_col8\" class=\"col_heading level0 col8\" >9</th>\n",
       "      <th id=\"T_743d4_level0_col9\" class=\"col_heading level0 col9\" >10</th>\n",
       "      <th id=\"T_743d4_level0_col10\" class=\"col_heading level0 col10\" >11</th>\n",
       "      <th id=\"T_743d4_level0_col11\" class=\"col_heading level0 col11\" >12</th>\n",
       "    </tr>\n",
       "  </thead>\n",
       "  <tbody>\n",
       "    <tr>\n",
       "      <th id=\"T_743d4_level0_row0\" class=\"row_heading level0 row0\" >0</th>\n",
       "      <td id=\"T_743d4_row0_col0\" class=\"data row0 col0\" >1253371.830000</td>\n",
       "      <td id=\"T_743d4_row0_col1\" class=\"data row0 col1\" >1304778.990000</td>\n",
       "      <td id=\"T_743d4_row0_col2\" class=\"data row0 col2\" >2044620.650000</td>\n",
       "      <td id=\"T_743d4_row0_col3\" class=\"data row0 col3\" >1019047.950000</td>\n",
       "      <td id=\"T_743d4_row0_col4\" class=\"data row0 col4\" >1050814.960000</td>\n",
       "      <td id=\"T_743d4_row0_col5\" class=\"data row0 col5\" >1699636.000000</td>\n",
       "      <td id=\"T_743d4_row0_col6\" class=\"data row0 col6\" >2026911.510000</td>\n",
       "      <td id=\"T_743d4_row0_col7\" class=\"data row0 col7\" >1056562.000000</td>\n",
       "      <td id=\"T_743d4_row0_col8\" class=\"data row0 col8\" >2373136.020000</td>\n",
       "      <td id=\"T_743d4_row0_col9\" class=\"data row0 col9\" >1782851.950000</td>\n",
       "      <td id=\"T_743d4_row0_col10\" class=\"data row0 col10\" >1883978.710000</td>\n",
       "      <td id=\"T_743d4_row0_col11\" class=\"data row0 col11\" >1801057.120000</td>\n",
       "    </tr>\n",
       "    <tr>\n",
       "      <th id=\"T_743d4_level0_row1\" class=\"row_heading level0 row1\" >1</th>\n",
       "      <td id=\"T_743d4_row1_col0\" class=\"data row1 col0\" >1224756.040000</td>\n",
       "      <td id=\"T_743d4_row1_col1\" class=\"data row1 col1\" >1329883.400000</td>\n",
       "      <td id=\"T_743d4_row1_col2\" class=\"data row1 col2\" >1956355.050000</td>\n",
       "      <td id=\"T_743d4_row1_col3\" class=\"data row1 col3\" >3030052.000000</td>\n",
       "      <td id=\"T_743d4_row1_col4\" class=\"data row1 col4\" >1943541.800000</td>\n",
       "      <td id=\"T_743d4_row1_col5\" class=\"data row1 col5\" >2453945.100000</td>\n",
       "      <td id=\"T_743d4_row1_col6\" class=\"data row1 col6\" >1887655.000000</td>\n",
       "      <td id=\"T_743d4_row1_col7\" class=\"data row1 col7\" >1735397.400000</td>\n",
       "      <td id=\"T_743d4_row1_col8\" class=\"data row1 col8\" >2747183.000000</td>\n",
       "      <td id=\"T_743d4_row1_col9\" class=\"data row1 col9\" >1728196.390000</td>\n",
       "      <td id=\"T_743d4_row1_col10\" class=\"data row1 col10\" >1854217.900000</td>\n",
       "      <td id=\"T_743d4_row1_col11\" class=\"data row1 col11\" >1981449.200000</td>\n",
       "    </tr>\n",
       "    <tr>\n",
       "      <th id=\"T_743d4_level0_row2\" class=\"row_heading level0 row2\" >2</th>\n",
       "      <td id=\"T_743d4_row2_col0\" class=\"data row2 col0\" >1498428.710000</td>\n",
       "      <td id=\"T_743d4_row2_col1\" class=\"data row2 col1\" >1644201.090000</td>\n",
       "      <td id=\"T_743d4_row2_col2\" class=\"data row2 col2\" >1788359.610000</td>\n",
       "      <td id=\"T_743d4_row2_col3\" class=\"data row2 col3\" >2129350.810000</td>\n",
       "      <td id=\"T_743d4_row2_col4\" class=\"data row2 col4\" >1999203.910000</td>\n",
       "      <td id=\"T_743d4_row2_col5\" class=\"data row2 col5\" >1195338.050000</td>\n",
       "      <td id=\"T_743d4_row2_col6\" class=\"data row2 col6\" >1529108.900000</td>\n",
       "      <td id=\"T_743d4_row2_col7\" class=\"data row2 col7\" >682054.500000</td>\n",
       "      <td id=\"T_743d4_row2_col8\" class=\"data row2 col8\" >1459914.020000</td>\n",
       "      <td id=\"T_743d4_row2_col9\" class=\"data row2 col9\" >1520205.700000</td>\n",
       "      <td id=\"T_743d4_row2_col10\" class=\"data row2 col10\" >915583.650000</td>\n",
       "      <td id=\"T_743d4_row2_col11\" class=\"data row2 col11\" >1487670.570000</td>\n",
       "    </tr>\n",
       "    <tr>\n",
       "      <th id=\"T_743d4_level0_row3\" class=\"row_heading level0 row3\" >3</th>\n",
       "      <td id=\"T_743d4_row3_col0\" class=\"data row3 col0\" >1853226.000000</td>\n",
       "      <td id=\"T_743d4_row3_col1\" class=\"data row3 col1\" >1426287.826667</td>\n",
       "      <td id=\"T_743d4_row3_col2\" class=\"data row3 col2\" >1929778.436667</td>\n",
       "      <td id=\"T_743d4_row3_col3\" class=\"data row3 col3\" >2059483.586667</td>\n",
       "      <td id=\"T_743d4_row3_col4\" class=\"data row3 col4\" >1664520.223333</td>\n",
       "      <td id=\"T_743d4_row3_col5\" class=\"data row3 col5\" >1782973.050000</td>\n",
       "      <td id=\"T_743d4_row3_col6\" class=\"data row3 col6\" >1846037.000000</td>\n",
       "      <td id=\"T_743d4_row3_col7\" class=\"data row3 col7\" >1347941.000000</td>\n",
       "      <td id=\"T_743d4_row3_col8\" class=\"data row3 col8\" >1870113.400000</td>\n",
       "      <td id=\"T_743d4_row3_col9\" class=\"data row3 col9\" >2390358.000000</td>\n",
       "      <td id=\"T_743d4_row3_col10\" class=\"data row3 col10\" >1669463.000000</td>\n",
       "      <td id=\"T_743d4_row3_col11\" class=\"data row3 col11\" >2662427.000000</td>\n",
       "    </tr>\n",
       "  </tbody>\n",
       "</table>\n"
      ],
      "text/plain": [
       "<pandas.io.formats.style.Styler at 0x21720626550>"
      ]
     },
     "execution_count": 27,
     "metadata": {},
     "output_type": "execute_result"
    }
   ],
   "source": [
    "manager.style.background_gradient(cmap='plasma')"
   ]
  },
  {
   "cell_type": "code",
   "execution_count": 28,
   "id": "c8fc7518",
   "metadata": {},
   "outputs": [
    {
     "data": {
      "text/html": [
       "<div>\n",
       "<style scoped>\n",
       "    .dataframe tbody tr th:only-of-type {\n",
       "        vertical-align: middle;\n",
       "    }\n",
       "\n",
       "    .dataframe tbody tr th {\n",
       "        vertical-align: top;\n",
       "    }\n",
       "\n",
       "    .dataframe thead th {\n",
       "        text-align: right;\n",
       "    }\n",
       "</style>\n",
       "<table border=\"1\" class=\"dataframe\">\n",
       "  <thead>\n",
       "    <tr style=\"text-align: right;\">\n",
       "      <th></th>\n",
       "      <th>2022-01-01</th>\n",
       "      <th>2022-02-01</th>\n",
       "      <th>2022-03-01</th>\n",
       "      <th>2022-04-01</th>\n",
       "      <th>2022-05-01</th>\n",
       "      <th>2022-06-01</th>\n",
       "      <th>2022-07-01</th>\n",
       "      <th>2022-08-01</th>\n",
       "      <th>2022-09-01</th>\n",
       "      <th>2022-10-01</th>\n",
       "      <th>...</th>\n",
       "      <th>2021-03-01</th>\n",
       "      <th>2021-04-01</th>\n",
       "      <th>2021-05-01</th>\n",
       "      <th>2021-06-01</th>\n",
       "      <th>2021-07-01</th>\n",
       "      <th>2021-08-01</th>\n",
       "      <th>2021-09-01</th>\n",
       "      <th>2021-10-01</th>\n",
       "      <th>2021-11-01</th>\n",
       "      <th>2021-12-01</th>\n",
       "    </tr>\n",
       "  </thead>\n",
       "  <tbody>\n",
       "    <tr>\n",
       "      <th>man1</th>\n",
       "      <td>1853226.00</td>\n",
       "      <td>2473906.00</td>\n",
       "      <td>4947137</td>\n",
       "      <td>2090849.21</td>\n",
       "      <td>2392385</td>\n",
       "      <td>2490461</td>\n",
       "      <td>1846037</td>\n",
       "      <td>1347941</td>\n",
       "      <td>1870113.4</td>\n",
       "      <td>2390358.00</td>\n",
       "      <td>...</td>\n",
       "      <td>1956355.05</td>\n",
       "      <td>3030052.0</td>\n",
       "      <td>1943541.8</td>\n",
       "      <td>2453945.10</td>\n",
       "      <td>1887655</td>\n",
       "      <td>1735397.40</td>\n",
       "      <td>2747183</td>\n",
       "      <td>1728196.39</td>\n",
       "      <td>1854217.9</td>\n",
       "      <td>1981449.20</td>\n",
       "    </tr>\n",
       "    <tr>\n",
       "      <th>man2</th>\n",
       "      <td>1772395.27</td>\n",
       "      <td>2436305.98</td>\n",
       "      <td>5823835</td>\n",
       "      <td>2220965.99</td>\n",
       "      <td>2413337</td>\n",
       "      <td>2374774</td>\n",
       "      <td>1856953</td>\n",
       "      <td>2888375</td>\n",
       "      <td>1904978.0</td>\n",
       "      <td>542035.00</td>\n",
       "      <td>...</td>\n",
       "      <td>2136320.04</td>\n",
       "      <td>2815512.0</td>\n",
       "      <td>1974469.0</td>\n",
       "      <td>2562307.04</td>\n",
       "      <td>2184809</td>\n",
       "      <td>2243738.25</td>\n",
       "      <td>2599713</td>\n",
       "      <td>1896985.00</td>\n",
       "      <td>2322207.6</td>\n",
       "      <td>1942728.38</td>\n",
       "    </tr>\n",
       "    <tr>\n",
       "      <th>man3</th>\n",
       "      <td>902868.00</td>\n",
       "      <td>1320842.71</td>\n",
       "      <td>3511471</td>\n",
       "      <td>2147228.00</td>\n",
       "      <td>1602700</td>\n",
       "      <td>2183452</td>\n",
       "      <td>1708598</td>\n",
       "      <td>1683603</td>\n",
       "      <td>1987053.0</td>\n",
       "      <td>2432145.08</td>\n",
       "      <td>...</td>\n",
       "      <td>1353544.00</td>\n",
       "      <td>1438604.7</td>\n",
       "      <td>1055000.0</td>\n",
       "      <td>1310593.00</td>\n",
       "      <td>1046411</td>\n",
       "      <td>1995975.50</td>\n",
       "      <td>537207</td>\n",
       "      <td>1288007.38</td>\n",
       "      <td>1306902.0</td>\n",
       "      <td>1108810.29</td>\n",
       "    </tr>\n",
       "  </tbody>\n",
       "</table>\n",
       "<p>3 rows × 24 columns</p>\n",
       "</div>"
      ],
      "text/plain": [
       "      2022-01-01  2022-02-01  2022-03-01  2022-04-01  2022-05-01  2022-06-01  \\\n",
       "man1  1853226.00  2473906.00     4947137  2090849.21     2392385     2490461   \n",
       "man2  1772395.27  2436305.98     5823835  2220965.99     2413337     2374774   \n",
       "man3   902868.00  1320842.71     3511471  2147228.00     1602700     2183452   \n",
       "\n",
       "      2022-07-01  2022-08-01  2022-09-01  2022-10-01  ...  2021-03-01  \\\n",
       "man1     1846037     1347941   1870113.4  2390358.00  ...  1956355.05   \n",
       "man2     1856953     2888375   1904978.0   542035.00  ...  2136320.04   \n",
       "man3     1708598     1683603   1987053.0  2432145.08  ...  1353544.00   \n",
       "\n",
       "      2021-04-01  2021-05-01  2021-06-01  2021-07-01  2021-08-01  2021-09-01  \\\n",
       "man1   3030052.0   1943541.8  2453945.10     1887655  1735397.40     2747183   \n",
       "man2   2815512.0   1974469.0  2562307.04     2184809  2243738.25     2599713   \n",
       "man3   1438604.7   1055000.0  1310593.00     1046411  1995975.50      537207   \n",
       "\n",
       "      2021-10-01  2021-11-01  2021-12-01  \n",
       "man1  1728196.39   1854217.9  1981449.20  \n",
       "man2  1896985.00   2322207.6  1942728.38  \n",
       "man3  1288007.38   1306902.0  1108810.29  \n",
       "\n",
       "[3 rows x 24 columns]"
      ]
     },
     "execution_count": 28,
     "metadata": {},
     "output_type": "execute_result"
    }
   ],
   "source": [
    "all_manager_22.head(3)"
   ]
  },
  {
   "cell_type": "code",
   "execution_count": 29,
   "id": "84a1a848",
   "metadata": {},
   "outputs": [
    {
     "data": {
      "text/html": [
       "<style type=\"text/css\">\n",
       "#T_b7c62_row0_col0, #T_b7c62_row0_col1, #T_b7c62_row0_col5, #T_b7c62_row0_col11, #T_b7c62_row0_col12, #T_b7c62_row0_col15, #T_b7c62_row0_col20, #T_b7c62_row0_col23, #T_b7c62_row1_col2, #T_b7c62_row1_col3, #T_b7c62_row1_col4, #T_b7c62_row1_col6, #T_b7c62_row1_col7, #T_b7c62_row1_col13, #T_b7c62_row1_col14, #T_b7c62_row1_col16, #T_b7c62_row1_col17, #T_b7c62_row1_col18, #T_b7c62_row1_col19, #T_b7c62_row1_col21, #T_b7c62_row1_col22, #T_b7c62_row2_col8, #T_b7c62_row2_col9, #T_b7c62_row2_col10 {\n",
       "  background-color: #f0f921;\n",
       "  color: #000000;\n",
       "}\n",
       "#T_b7c62_row0_col2 {\n",
       "  background-color: #e56a5d;\n",
       "  color: #f1f1f1;\n",
       "}\n",
       "#T_b7c62_row0_col3, #T_b7c62_row0_col7, #T_b7c62_row0_col8, #T_b7c62_row0_col19, #T_b7c62_row1_col9, #T_b7c62_row1_col10, #T_b7c62_row1_col11, #T_b7c62_row2_col0, #T_b7c62_row2_col1, #T_b7c62_row2_col2, #T_b7c62_row2_col4, #T_b7c62_row2_col5, #T_b7c62_row2_col6, #T_b7c62_row2_col12, #T_b7c62_row2_col13, #T_b7c62_row2_col14, #T_b7c62_row2_col15, #T_b7c62_row2_col16, #T_b7c62_row2_col17, #T_b7c62_row2_col18, #T_b7c62_row2_col20, #T_b7c62_row2_col21, #T_b7c62_row2_col22, #T_b7c62_row2_col23 {\n",
       "  background-color: #0d0887;\n",
       "  color: #f1f1f1;\n",
       "}\n",
       "#T_b7c62_row0_col4 {\n",
       "  background-color: #f3ee27;\n",
       "  color: #000000;\n",
       "}\n",
       "#T_b7c62_row0_col6 {\n",
       "  background-color: #fada24;\n",
       "  color: #000000;\n",
       "}\n",
       "#T_b7c62_row0_col9 {\n",
       "  background-color: #f3f027;\n",
       "  color: #000000;\n",
       "}\n",
       "#T_b7c62_row0_col10 {\n",
       "  background-color: #f0804e;\n",
       "  color: #f1f1f1;\n",
       "}\n",
       "#T_b7c62_row0_col13 {\n",
       "  background-color: #a82296;\n",
       "  color: #f1f1f1;\n",
       "}\n",
       "#T_b7c62_row0_col14, #T_b7c62_row1_col12 {\n",
       "  background-color: #fa9c3c;\n",
       "  color: #000000;\n",
       "}\n",
       "#T_b7c62_row0_col16, #T_b7c62_row1_col1 {\n",
       "  background-color: #f5eb27;\n",
       "  color: #000000;\n",
       "}\n",
       "#T_b7c62_row0_col17 {\n",
       "  background-color: #fbd324;\n",
       "  color: #000000;\n",
       "}\n",
       "#T_b7c62_row0_col18 {\n",
       "  background-color: #f79143;\n",
       "  color: #f1f1f1;\n",
       "}\n",
       "#T_b7c62_row0_col21 {\n",
       "  background-color: #f58c46;\n",
       "  color: #f1f1f1;\n",
       "}\n",
       "#T_b7c62_row0_col22 {\n",
       "  background-color: #d5536f;\n",
       "  color: #f1f1f1;\n",
       "}\n",
       "#T_b7c62_row1_col0 {\n",
       "  background-color: #fbd524;\n",
       "  color: #000000;\n",
       "}\n",
       "#T_b7c62_row1_col5 {\n",
       "  background-color: #e56b5d;\n",
       "  color: #f1f1f1;\n",
       "}\n",
       "#T_b7c62_row1_col8 {\n",
       "  background-color: #8f0da4;\n",
       "  color: #f1f1f1;\n",
       "}\n",
       "#T_b7c62_row1_col15 {\n",
       "  background-color: #fec029;\n",
       "  color: #000000;\n",
       "}\n",
       "#T_b7c62_row1_col20 {\n",
       "  background-color: #f9dc24;\n",
       "  color: #000000;\n",
       "}\n",
       "#T_b7c62_row1_col23 {\n",
       "  background-color: #f6e626;\n",
       "  color: #000000;\n",
       "}\n",
       "#T_b7c62_row2_col3 {\n",
       "  background-color: #ba3388;\n",
       "  color: #f1f1f1;\n",
       "}\n",
       "#T_b7c62_row2_col7 {\n",
       "  background-color: #7100a8;\n",
       "  color: #f1f1f1;\n",
       "}\n",
       "#T_b7c62_row2_col11 {\n",
       "  background-color: #fdac33;\n",
       "  color: #000000;\n",
       "}\n",
       "#T_b7c62_row2_col19 {\n",
       "  background-color: #ce4b75;\n",
       "  color: #f1f1f1;\n",
       "}\n",
       "</style>\n",
       "<table id=\"T_b7c62\">\n",
       "  <thead>\n",
       "    <tr>\n",
       "      <th class=\"blank level0\" >&nbsp;</th>\n",
       "      <th id=\"T_b7c62_level0_col0\" class=\"col_heading level0 col0\" >2022-01-01 00:00:00</th>\n",
       "      <th id=\"T_b7c62_level0_col1\" class=\"col_heading level0 col1\" >2022-02-01 00:00:00</th>\n",
       "      <th id=\"T_b7c62_level0_col2\" class=\"col_heading level0 col2\" >2022-03-01 00:00:00</th>\n",
       "      <th id=\"T_b7c62_level0_col3\" class=\"col_heading level0 col3\" >2022-04-01 00:00:00</th>\n",
       "      <th id=\"T_b7c62_level0_col4\" class=\"col_heading level0 col4\" >2022-05-01 00:00:00</th>\n",
       "      <th id=\"T_b7c62_level0_col5\" class=\"col_heading level0 col5\" >2022-06-01 00:00:00</th>\n",
       "      <th id=\"T_b7c62_level0_col6\" class=\"col_heading level0 col6\" >2022-07-01 00:00:00</th>\n",
       "      <th id=\"T_b7c62_level0_col7\" class=\"col_heading level0 col7\" >2022-08-01 00:00:00</th>\n",
       "      <th id=\"T_b7c62_level0_col8\" class=\"col_heading level0 col8\" >2022-09-01 00:00:00</th>\n",
       "      <th id=\"T_b7c62_level0_col9\" class=\"col_heading level0 col9\" >2022-10-01 00:00:00</th>\n",
       "      <th id=\"T_b7c62_level0_col10\" class=\"col_heading level0 col10\" >2022-11-01 00:00:00</th>\n",
       "      <th id=\"T_b7c62_level0_col11\" class=\"col_heading level0 col11\" >2022-12-01 00:00:00</th>\n",
       "      <th id=\"T_b7c62_level0_col12\" class=\"col_heading level0 col12\" >2021-01-01 00:00:00</th>\n",
       "      <th id=\"T_b7c62_level0_col13\" class=\"col_heading level0 col13\" >2021-02-01 00:00:00</th>\n",
       "      <th id=\"T_b7c62_level0_col14\" class=\"col_heading level0 col14\" >2021-03-01 00:00:00</th>\n",
       "      <th id=\"T_b7c62_level0_col15\" class=\"col_heading level0 col15\" >2021-04-01 00:00:00</th>\n",
       "      <th id=\"T_b7c62_level0_col16\" class=\"col_heading level0 col16\" >2021-05-01 00:00:00</th>\n",
       "      <th id=\"T_b7c62_level0_col17\" class=\"col_heading level0 col17\" >2021-06-01 00:00:00</th>\n",
       "      <th id=\"T_b7c62_level0_col18\" class=\"col_heading level0 col18\" >2021-07-01 00:00:00</th>\n",
       "      <th id=\"T_b7c62_level0_col19\" class=\"col_heading level0 col19\" >2021-08-01 00:00:00</th>\n",
       "      <th id=\"T_b7c62_level0_col20\" class=\"col_heading level0 col20\" >2021-09-01 00:00:00</th>\n",
       "      <th id=\"T_b7c62_level0_col21\" class=\"col_heading level0 col21\" >2021-10-01 00:00:00</th>\n",
       "      <th id=\"T_b7c62_level0_col22\" class=\"col_heading level0 col22\" >2021-11-01 00:00:00</th>\n",
       "      <th id=\"T_b7c62_level0_col23\" class=\"col_heading level0 col23\" >2021-12-01 00:00:00</th>\n",
       "    </tr>\n",
       "  </thead>\n",
       "  <tbody>\n",
       "    <tr>\n",
       "      <th id=\"T_b7c62_level0_row0\" class=\"row_heading level0 row0\" >man1</th>\n",
       "      <td id=\"T_b7c62_row0_col0\" class=\"data row0 col0\" >1853226.000000</td>\n",
       "      <td id=\"T_b7c62_row0_col1\" class=\"data row0 col1\" >2473906.000000</td>\n",
       "      <td id=\"T_b7c62_row0_col2\" class=\"data row0 col2\" >4947137</td>\n",
       "      <td id=\"T_b7c62_row0_col3\" class=\"data row0 col3\" >2090849.210000</td>\n",
       "      <td id=\"T_b7c62_row0_col4\" class=\"data row0 col4\" >2392385</td>\n",
       "      <td id=\"T_b7c62_row0_col5\" class=\"data row0 col5\" >2490461</td>\n",
       "      <td id=\"T_b7c62_row0_col6\" class=\"data row0 col6\" >1846037</td>\n",
       "      <td id=\"T_b7c62_row0_col7\" class=\"data row0 col7\" >1347941</td>\n",
       "      <td id=\"T_b7c62_row0_col8\" class=\"data row0 col8\" >1870113.400000</td>\n",
       "      <td id=\"T_b7c62_row0_col9\" class=\"data row0 col9\" >2390358.000000</td>\n",
       "      <td id=\"T_b7c62_row0_col10\" class=\"data row0 col10\" >1669463.000000</td>\n",
       "      <td id=\"T_b7c62_row0_col11\" class=\"data row0 col11\" >2723431</td>\n",
       "      <td id=\"T_b7c62_row0_col12\" class=\"data row0 col12\" >1224756.040000</td>\n",
       "      <td id=\"T_b7c62_row0_col13\" class=\"data row0 col13\" >1329883.400000</td>\n",
       "      <td id=\"T_b7c62_row0_col14\" class=\"data row0 col14\" >1956355.050000</td>\n",
       "      <td id=\"T_b7c62_row0_col15\" class=\"data row0 col15\" >3030052.000000</td>\n",
       "      <td id=\"T_b7c62_row0_col16\" class=\"data row0 col16\" >1943541.800000</td>\n",
       "      <td id=\"T_b7c62_row0_col17\" class=\"data row0 col17\" >2453945.100000</td>\n",
       "      <td id=\"T_b7c62_row0_col18\" class=\"data row0 col18\" >1887655</td>\n",
       "      <td id=\"T_b7c62_row0_col19\" class=\"data row0 col19\" >1735397.400000</td>\n",
       "      <td id=\"T_b7c62_row0_col20\" class=\"data row0 col20\" >2747183</td>\n",
       "      <td id=\"T_b7c62_row0_col21\" class=\"data row0 col21\" >1728196.390000</td>\n",
       "      <td id=\"T_b7c62_row0_col22\" class=\"data row0 col22\" >1854217.900000</td>\n",
       "      <td id=\"T_b7c62_row0_col23\" class=\"data row0 col23\" >1981449.200000</td>\n",
       "    </tr>\n",
       "    <tr>\n",
       "      <th id=\"T_b7c62_level0_row1\" class=\"row_heading level0 row1\" >man2</th>\n",
       "      <td id=\"T_b7c62_row1_col0\" class=\"data row1 col0\" >1772395.270000</td>\n",
       "      <td id=\"T_b7c62_row1_col1\" class=\"data row1 col1\" >2436305.980000</td>\n",
       "      <td id=\"T_b7c62_row1_col2\" class=\"data row1 col2\" >5823835</td>\n",
       "      <td id=\"T_b7c62_row1_col3\" class=\"data row1 col3\" >2220965.990000</td>\n",
       "      <td id=\"T_b7c62_row1_col4\" class=\"data row1 col4\" >2413337</td>\n",
       "      <td id=\"T_b7c62_row1_col5\" class=\"data row1 col5\" >2374774</td>\n",
       "      <td id=\"T_b7c62_row1_col6\" class=\"data row1 col6\" >1856953</td>\n",
       "      <td id=\"T_b7c62_row1_col7\" class=\"data row1 col7\" >2888375</td>\n",
       "      <td id=\"T_b7c62_row1_col8\" class=\"data row1 col8\" >1904978.000000</td>\n",
       "      <td id=\"T_b7c62_row1_col9\" class=\"data row1 col9\" >542035.000000</td>\n",
       "      <td id=\"T_b7c62_row1_col10\" class=\"data row1 col10\" >2140.000000</td>\n",
       "      <td id=\"T_b7c62_row1_col11\" class=\"data row1 col11\" >2213</td>\n",
       "      <td id=\"T_b7c62_row1_col12\" class=\"data row1 col12\" >1120191.800000</td>\n",
       "      <td id=\"T_b7c62_row1_col13\" class=\"data row1 col13\" >1732141.000000</td>\n",
       "      <td id=\"T_b7c62_row1_col14\" class=\"data row1 col14\" >2136320.040000</td>\n",
       "      <td id=\"T_b7c62_row1_col15\" class=\"data row1 col15\" >2815512.000000</td>\n",
       "      <td id=\"T_b7c62_row1_col16\" class=\"data row1 col16\" >1974469.000000</td>\n",
       "      <td id=\"T_b7c62_row1_col17\" class=\"data row1 col17\" >2562307.040000</td>\n",
       "      <td id=\"T_b7c62_row1_col18\" class=\"data row1 col18\" >2184809</td>\n",
       "      <td id=\"T_b7c62_row1_col19\" class=\"data row1 col19\" >2243738.250000</td>\n",
       "      <td id=\"T_b7c62_row1_col20\" class=\"data row1 col20\" >2599713</td>\n",
       "      <td id=\"T_b7c62_row1_col21\" class=\"data row1 col21\" >1896985.000000</td>\n",
       "      <td id=\"T_b7c62_row1_col22\" class=\"data row1 col22\" >2322207.600000</td>\n",
       "      <td id=\"T_b7c62_row1_col23\" class=\"data row1 col23\" >1942728.380000</td>\n",
       "    </tr>\n",
       "    <tr>\n",
       "      <th id=\"T_b7c62_level0_row2\" class=\"row_heading level0 row2\" >man3</th>\n",
       "      <td id=\"T_b7c62_row2_col0\" class=\"data row2 col0\" >902868.000000</td>\n",
       "      <td id=\"T_b7c62_row2_col1\" class=\"data row2 col1\" >1320842.710000</td>\n",
       "      <td id=\"T_b7c62_row2_col2\" class=\"data row2 col2\" >3511471</td>\n",
       "      <td id=\"T_b7c62_row2_col3\" class=\"data row2 col3\" >2147228.000000</td>\n",
       "      <td id=\"T_b7c62_row2_col4\" class=\"data row2 col4\" >1602700</td>\n",
       "      <td id=\"T_b7c62_row2_col5\" class=\"data row2 col5\" >2183452</td>\n",
       "      <td id=\"T_b7c62_row2_col6\" class=\"data row2 col6\" >1708598</td>\n",
       "      <td id=\"T_b7c62_row2_col7\" class=\"data row2 col7\" >1683603</td>\n",
       "      <td id=\"T_b7c62_row2_col8\" class=\"data row2 col8\" >1987053.000000</td>\n",
       "      <td id=\"T_b7c62_row2_col9\" class=\"data row2 col9\" >2432145.080000</td>\n",
       "      <td id=\"T_b7c62_row2_col10\" class=\"data row2 col10\" >2418446.590000</td>\n",
       "      <td id=\"T_b7c62_row2_col11\" class=\"data row2 col11\" >2219079</td>\n",
       "      <td id=\"T_b7c62_row2_col12\" class=\"data row2 col12\" >770180.080000</td>\n",
       "      <td id=\"T_b7c62_row2_col13\" class=\"data row2 col13\" >1091595.840000</td>\n",
       "      <td id=\"T_b7c62_row2_col14\" class=\"data row2 col14\" >1353544.000000</td>\n",
       "      <td id=\"T_b7c62_row2_col15\" class=\"data row2 col15\" >1438604.700000</td>\n",
       "      <td id=\"T_b7c62_row2_col16\" class=\"data row2 col16\" >1055000.000000</td>\n",
       "      <td id=\"T_b7c62_row2_col17\" class=\"data row2 col17\" >1310593.000000</td>\n",
       "      <td id=\"T_b7c62_row2_col18\" class=\"data row2 col18\" >1046411</td>\n",
       "      <td id=\"T_b7c62_row2_col19\" class=\"data row2 col19\" >1995975.500000</td>\n",
       "      <td id=\"T_b7c62_row2_col20\" class=\"data row2 col20\" >537207</td>\n",
       "      <td id=\"T_b7c62_row2_col21\" class=\"data row2 col21\" >1288007.380000</td>\n",
       "      <td id=\"T_b7c62_row2_col22\" class=\"data row2 col22\" >1306902.000000</td>\n",
       "      <td id=\"T_b7c62_row2_col23\" class=\"data row2 col23\" >1108810.290000</td>\n",
       "    </tr>\n",
       "  </tbody>\n",
       "</table>\n"
      ],
      "text/plain": [
       "<pandas.io.formats.style.Styler at 0x217197de370>"
      ]
     },
     "execution_count": 29,
     "metadata": {},
     "output_type": "execute_result"
    }
   ],
   "source": [
    "all_manager_22.style.background_gradient(cmap='plasma')"
   ]
  },
  {
   "cell_type": "code",
   "execution_count": 30,
   "id": "f7f3abe3",
   "metadata": {},
   "outputs": [],
   "source": [
    "ndarr_all=np.array(all_manager_22.loc['man1'])\n",
    "ndarr_all1=np.array(all_manager_22.loc['man2'])\n",
    "#ndarr_all2=np.array(all_manager_22.loc['man3'])"
   ]
  },
  {
   "cell_type": "code",
   "execution_count": 31,
   "id": "1f6491f7",
   "metadata": {},
   "outputs": [
    {
     "data": {
      "text/plain": [
       "KruskalResult(statistic=0.04251700680271142, pvalue=0.8366374024006072)"
      ]
     },
     "execution_count": 31,
     "metadata": {},
     "output_type": "execute_result"
    }
   ],
   "source": [
    "stats.kruskal(ndarr_all,ndarr_all1)"
   ]
  },
  {
   "cell_type": "code",
   "execution_count": null,
   "id": "9e1e76a8",
   "metadata": {},
   "outputs": [],
   "source": []
  },
  {
   "cell_type": "code",
   "execution_count": null,
   "id": "f52ed457",
   "metadata": {},
   "outputs": [],
   "source": []
  }
 ],
 "metadata": {
  "kernelspec": {
   "display_name": "Python 3 (ipykernel)",
   "language": "python",
   "name": "python3"
  },
  "language_info": {
   "codemirror_mode": {
    "name": "ipython",
    "version": 3
   },
   "file_extension": ".py",
   "mimetype": "text/x-python",
   "name": "python",
   "nbconvert_exporter": "python",
   "pygments_lexer": "ipython3",
   "version": "3.9.13"
  }
 },
 "nbformat": 4,
 "nbformat_minor": 5
}
