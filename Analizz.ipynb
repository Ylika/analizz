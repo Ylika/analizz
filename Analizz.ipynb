{
 "cells": [
  {
   "cell_type": "code",
   "execution_count": 13,
   "id": "e95913f7",
   "metadata": {},
   "outputs": [
    {
     "name": "stdout",
     "output_type": "stream",
     "text": [
      "hellow Edward\n"
     ]
    }
   ],
   "source": [
    "print ('hellow Edward')"
   ]
  },
  {
   "cell_type": "code",
   "execution_count": 18,
   "id": "78c0105a",
   "metadata": {},
   "outputs": [],
   "source": [
    "import pandas as pd\n",
    "import numpy as np\n",
    "# Python ≥3.5 is required\n",
    "import sys\n",
    "assert sys.version_info >= (3, 5)\n",
    "\n",
    "# Scikit-Learn ≥0.20 is required\n",
    "import sklearn\n",
    "assert sklearn.__version__ >= \"0.20\"\n",
    "import seaborn as sns\n",
    "# Common imports\n",
    "import numpy as np\n",
    "import os\n",
    "%matplotlib inline"
   ]
  },
  {
   "cell_type": "code",
   "execution_count": 41,
   "id": "180f31a1",
   "metadata": {},
   "outputs": [],
   "source": [
    "data2021 = pd.read_excel('C:\\\\Users\\\\secr_de\\\\analizz\\\\analizz\\\\клиенты 21года.xlsx')\n",
    "data2022 = pd.read_excel('C:\\\\Users\\\\secr_de\\\\analizz\\\\analizz\\\\клиенты 22года.xlsx')"
   ]
  },
  {
   "cell_type": "code",
   "execution_count": 42,
   "id": "11d58353",
   "metadata": {},
   "outputs": [],
   "source": [
    "data2122 = pd.merge(data2021,data2022, how='outer', on='клиент')"
   ]
  },
  {
   "cell_type": "code",
   "execution_count": 43,
   "id": "768cdae4",
   "metadata": {
    "scrolled": true
   },
   "outputs": [
    {
     "data": {
      "text/html": [
       "<div>\n",
       "<style scoped>\n",
       "    .dataframe tbody tr th:only-of-type {\n",
       "        vertical-align: middle;\n",
       "    }\n",
       "\n",
       "    .dataframe tbody tr th {\n",
       "        vertical-align: top;\n",
       "    }\n",
       "\n",
       "    .dataframe thead th {\n",
       "        text-align: right;\n",
       "    }\n",
       "</style>\n",
       "<table border=\"1\" class=\"dataframe\">\n",
       "  <thead>\n",
       "    <tr style=\"text-align: right;\">\n",
       "      <th></th>\n",
       "      <th>клиент</th>\n",
       "      <th>Выручка21</th>\n",
       "      <th>Выручка22</th>\n",
       "    </tr>\n",
       "  </thead>\n",
       "  <tbody>\n",
       "    <tr>\n",
       "      <th>0</th>\n",
       "      <td>Ника-Мед ООО г.Комсомольск-на-Амуре</td>\n",
       "      <td>855</td>\n",
       "      <td>2 544 813</td>\n",
       "    </tr>\n",
       "    <tr>\n",
       "      <th>1</th>\n",
       "      <td>ДентМастер ООО г.Биробиджан</td>\n",
       "      <td>935 679,4</td>\n",
       "      <td>657 519</td>\n",
       "    </tr>\n",
       "    <tr>\n",
       "      <th>2</th>\n",
       "      <td>Авторская стоматология ООО г.Хабаровск</td>\n",
       "      <td>716 589</td>\n",
       "      <td>181 349,01</td>\n",
       "    </tr>\n",
       "    <tr>\n",
       "      <th>3</th>\n",
       "      <td>Дентал-Сервис ООО г.Биробиджан</td>\n",
       "      <td>712 288</td>\n",
       "      <td>624 043</td>\n",
       "    </tr>\n",
       "    <tr>\n",
       "      <th>4</th>\n",
       "      <td>Тари-КОМ ООО г.Комсомольск-на-Амуре</td>\n",
       "      <td>685 871,3</td>\n",
       "      <td>620 380</td>\n",
       "    </tr>\n",
       "    <tr>\n",
       "      <th>5</th>\n",
       "      <td>Лобанов Евгений Александрович ИП г.Комсомольск...</td>\n",
       "      <td>634 000</td>\n",
       "      <td>129 658</td>\n",
       "    </tr>\n",
       "    <tr>\n",
       "      <th>6</th>\n",
       "      <td>СК Стоматологический центр Стом. клиника \"Зелё...</td>\n",
       "      <td>601 150</td>\n",
       "      <td>522 187</td>\n",
       "    </tr>\n",
       "    <tr>\n",
       "      <th>7</th>\n",
       "      <td>Стомадент ООО г.Хабаровск</td>\n",
       "      <td>572 277</td>\n",
       "      <td>337 257</td>\n",
       "    </tr>\n",
       "    <tr>\n",
       "      <th>8</th>\n",
       "      <td>Здоровье ООО г.Свободный</td>\n",
       "      <td>551 035</td>\n",
       "      <td>277 737</td>\n",
       "    </tr>\n",
       "    <tr>\n",
       "      <th>9</th>\n",
       "      <td>МАХАОН ООО Еврейская область п.Николаевка</td>\n",
       "      <td>539 421</td>\n",
       "      <td>93 353</td>\n",
       "    </tr>\n",
       "  </tbody>\n",
       "</table>\n",
       "</div>"
      ],
      "text/plain": [
       "                                              клиент  Выручка21   Выручка22\n",
       "0                Ника-Мед ООО г.Комсомольск-на-Амуре       855    2 544 813\n",
       "1                        ДентМастер ООО г.Биробиджан  935 679,4     657 519\n",
       "2             Авторская стоматология ООО г.Хабаровск    716 589  181 349,01\n",
       "3                     Дентал-Сервис ООО г.Биробиджан    712 288     624 043\n",
       "4                Тари-КОМ ООО г.Комсомольск-на-Амуре  685 871,3     620 380\n",
       "5  Лобанов Евгений Александрович ИП г.Комсомольск...    634 000     129 658\n",
       "6  СК Стоматологический центр Стом. клиника \"Зелё...    601 150     522 187\n",
       "7                          Стомадент ООО г.Хабаровск    572 277     337 257\n",
       "8                           Здоровье ООО г.Свободный    551 035     277 737\n",
       "9          МАХАОН ООО Еврейская область п.Николаевка    539 421      93 353"
      ]
     },
     "execution_count": 43,
     "metadata": {},
     "output_type": "execute_result"
    }
   ],
   "source": [
    "data2122.head(10)"
   ]
  },
  {
   "cell_type": "code",
   "execution_count": 44,
   "id": "0e6ecb55",
   "metadata": {},
   "outputs": [],
   "source": [
    "data2122.to_excel('miks.xlsx')"
   ]
  },
  {
   "cell_type": "code",
   "execution_count": 46,
   "id": "4f662206",
   "metadata": {},
   "outputs": [
    {
     "name": "stdout",
     "output_type": "stream",
     "text": [
      "<class 'pandas.core.frame.DataFrame'>\n",
      "RangeIndex: 244 entries, 0 to 243\n",
      "Data columns (total 2 columns):\n",
      " #   Column     Non-Null Count  Dtype  \n",
      "---  ------     --------------  -----  \n",
      " 0   клиент     244 non-null    object \n",
      " 1   Выручка21  1 non-null      float64\n",
      "dtypes: float64(1), object(1)\n",
      "memory usage: 3.9+ KB\n"
     ]
    }
   ],
   "source": [
    "data2021['Выручка21'] = pd.to_numeric(data2021['Выручка21'],errors='coerce')\n",
    "data2021.info()\n"
   ]
  },
  {
   "cell_type": "code",
   "execution_count": 48,
   "id": "728b9d8c",
   "metadata": {},
   "outputs": [
    {
     "name": "stdout",
     "output_type": "stream",
     "text": [
      "<class 'pandas.core.frame.DataFrame'>\n",
      "RangeIndex: 244 entries, 0 to 243\n",
      "Data columns (total 2 columns):\n",
      " #   Column     Non-Null Count  Dtype  \n",
      "---  ------     --------------  -----  \n",
      " 0   клиент     244 non-null    object \n",
      " 1   Выручка22  0 non-null      float64\n",
      "dtypes: float64(1), object(1)\n",
      "memory usage: 3.9+ KB\n"
     ]
    }
   ],
   "source": [
    "data2022['Выручка22'] = pd.to_numeric(data2022['Выручка22'],errors='coerce')\n",
    "data2022.info()"
   ]
  },
  {
   "cell_type": "code",
   "execution_count": null,
   "id": "95d2f4fa",
   "metadata": {},
   "outputs": [],
   "source": []
  },
  {
   "cell_type": "code",
   "execution_count": null,
   "id": "ef9cd2cf",
   "metadata": {},
   "outputs": [],
   "source": []
  }
 ],
 "metadata": {
  "kernelspec": {
   "display_name": "Python 3 (ipykernel)",
   "language": "python",
   "name": "python3"
  },
  "language_info": {
   "codemirror_mode": {
    "name": "ipython",
    "version": 3
   },
   "file_extension": ".py",
   "mimetype": "text/x-python",
   "name": "python",
   "nbconvert_exporter": "python",
   "pygments_lexer": "ipython3",
   "version": "3.9.13"
  }
 },
 "nbformat": 4,
 "nbformat_minor": 5
}
