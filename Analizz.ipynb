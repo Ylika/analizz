{
 "cells": [
  {
   "cell_type": "code",
   "execution_count": 1,
   "id": "e95913f7",
   "metadata": {},
   "outputs": [
    {
     "name": "stdout",
     "output_type": "stream",
     "text": [
      "hellow Edward\n"
     ]
    }
   ],
   "source": [
    "print ('hellow Edward')"
   ]
  },
  {
   "cell_type": "code",
   "execution_count": 2,
   "id": "78c0105a",
   "metadata": {},
   "outputs": [],
   "source": [
    "import pandas as pd\n",
    "import numpy as np\n",
    "# Python ≥3.5 is required\n",
    "import sys\n",
    "assert sys.version_info >= (3, 5)\n",
    "\n",
    "# Scikit-Learn ≥0.20 is required\n",
    "import sklearn\n",
    "assert sklearn.__version__ >= \"0.20\"\n",
    "import seaborn as sns\n",
    "# Common imports\n",
    "import numpy as np\n",
    "import os\n",
    "%matplotlib inline"
   ]
  },
  {
   "cell_type": "code",
   "execution_count": 3,
   "id": "180f31a1",
   "metadata": {},
   "outputs": [],
   "source": [
    "#load data\n",
    "data2021 = pd.read_excel('C:\\\\Users\\\\secr_de\\\\OneDrive\\\\analizz\\\\клиенты 21года.xlsx')\n",
    "data2022 = pd.read_excel('C:\\\\Users\\\\secr_de\\\\OneDrive\\\\analizz\\\\клиенты 22года.xlsx')"
   ]
  },
  {
   "cell_type": "code",
   "execution_count": 4,
   "id": "11d58353",
   "metadata": {},
   "outputs": [],
   "source": [
    "#merge\n",
    "data2122 = pd.merge(data2021,data2022, how='outer', on='клиент')"
   ]
  },
  {
   "cell_type": "code",
   "execution_count": 5,
   "id": "768cdae4",
   "metadata": {
    "scrolled": true
   },
   "outputs": [
    {
     "data": {
      "text/html": [
       "<div>\n",
       "<style scoped>\n",
       "    .dataframe tbody tr th:only-of-type {\n",
       "        vertical-align: middle;\n",
       "    }\n",
       "\n",
       "    .dataframe tbody tr th {\n",
       "        vertical-align: top;\n",
       "    }\n",
       "\n",
       "    .dataframe thead th {\n",
       "        text-align: right;\n",
       "    }\n",
       "</style>\n",
       "<table border=\"1\" class=\"dataframe\">\n",
       "  <thead>\n",
       "    <tr style=\"text-align: right;\">\n",
       "      <th></th>\n",
       "      <th>клиент</th>\n",
       "      <th>Выручка21</th>\n",
       "      <th>Выручка22</th>\n",
       "    </tr>\n",
       "  </thead>\n",
       "  <tbody>\n",
       "    <tr>\n",
       "      <th>0</th>\n",
       "      <td>Ника-Мед ООО г.Комсомольск-на-Амуре</td>\n",
       "      <td>1855434.0</td>\n",
       "      <td>2544813.00</td>\n",
       "    </tr>\n",
       "    <tr>\n",
       "      <th>1</th>\n",
       "      <td>ДентМастер ООО г.Биробиджан</td>\n",
       "      <td>935679.4</td>\n",
       "      <td>657519.00</td>\n",
       "    </tr>\n",
       "    <tr>\n",
       "      <th>2</th>\n",
       "      <td>Авторская стоматология ООО г.Хабаровск</td>\n",
       "      <td>716589.0</td>\n",
       "      <td>181349.01</td>\n",
       "    </tr>\n",
       "    <tr>\n",
       "      <th>3</th>\n",
       "      <td>Дентал-Сервис ООО г.Биробиджан</td>\n",
       "      <td>712288.0</td>\n",
       "      <td>624043.00</td>\n",
       "    </tr>\n",
       "    <tr>\n",
       "      <th>4</th>\n",
       "      <td>Тари-КОМ ООО г.Комсомольск-на-Амуре</td>\n",
       "      <td>685871.3</td>\n",
       "      <td>620380.00</td>\n",
       "    </tr>\n",
       "    <tr>\n",
       "      <th>5</th>\n",
       "      <td>Лобанов Евгений Александрович ИП г.Комсомольск...</td>\n",
       "      <td>634000.0</td>\n",
       "      <td>129658.00</td>\n",
       "    </tr>\n",
       "    <tr>\n",
       "      <th>6</th>\n",
       "      <td>СК Стоматологический центр Стом. клиника \"Зелё...</td>\n",
       "      <td>601150.0</td>\n",
       "      <td>522187.00</td>\n",
       "    </tr>\n",
       "    <tr>\n",
       "      <th>7</th>\n",
       "      <td>Стомадент ООО г.Хабаровск</td>\n",
       "      <td>572277.0</td>\n",
       "      <td>339697.00</td>\n",
       "    </tr>\n",
       "    <tr>\n",
       "      <th>8</th>\n",
       "      <td>Здоровье ООО г.Свободный</td>\n",
       "      <td>551035.0</td>\n",
       "      <td>277737.00</td>\n",
       "    </tr>\n",
       "    <tr>\n",
       "      <th>9</th>\n",
       "      <td>МАХАОН ООО  Еврейская область п.Николаевка</td>\n",
       "      <td>539421.0</td>\n",
       "      <td>93353.00</td>\n",
       "    </tr>\n",
       "  </tbody>\n",
       "</table>\n",
       "</div>"
      ],
      "text/plain": [
       "                                              клиент  Выручка21   Выручка22\n",
       "0                Ника-Мед ООО г.Комсомольск-на-Амуре  1855434.0  2544813.00\n",
       "1                        ДентМастер ООО г.Биробиджан   935679.4   657519.00\n",
       "2             Авторская стоматология ООО г.Хабаровск   716589.0   181349.01\n",
       "3                     Дентал-Сервис ООО г.Биробиджан   712288.0   624043.00\n",
       "4                Тари-КОМ ООО г.Комсомольск-на-Амуре   685871.3   620380.00\n",
       "5  Лобанов Евгений Александрович ИП г.Комсомольск...   634000.0   129658.00\n",
       "6  СК Стоматологический центр Стом. клиника \"Зелё...   601150.0   522187.00\n",
       "7                          Стомадент ООО г.Хабаровск   572277.0   339697.00\n",
       "8                           Здоровье ООО г.Свободный   551035.0   277737.00\n",
       "9         МАХАОН ООО  Еврейская область п.Николаевка   539421.0    93353.00"
      ]
     },
     "execution_count": 5,
     "metadata": {},
     "output_type": "execute_result"
    }
   ],
   "source": [
    "data2122.head(10)"
   ]
  },
  {
   "cell_type": "code",
   "execution_count": 6,
   "id": "b986b231",
   "metadata": {},
   "outputs": [],
   "source": [
    "#drop NA and fill the cells 0\n",
    "data21_22 = data2122.dropna()\n",
    "data2122 = data2122.fillna(0)"
   ]
  },
  {
   "cell_type": "code",
   "execution_count": 7,
   "id": "0e6ecb55",
   "metadata": {},
   "outputs": [],
   "source": [
    "#to EXCEL\n",
    "data2122.to_excel('miks.xlsx')"
   ]
  },
  {
   "cell_type": "code",
   "execution_count": 8,
   "id": "95d2f4fa",
   "metadata": {},
   "outputs": [
    {
     "name": "stdout",
     "output_type": "stream",
     "text": [
      "<class 'pandas.core.frame.DataFrame'>\n",
      "Int64Index: 296 entries, 0 to 295\n",
      "Data columns (total 3 columns):\n",
      " #   Column     Non-Null Count  Dtype  \n",
      "---  ------     --------------  -----  \n",
      " 0   клиент     296 non-null    object \n",
      " 1   Выручка21  296 non-null    float64\n",
      " 2   Выручка22  296 non-null    float64\n",
      "dtypes: float64(2), object(1)\n",
      "memory usage: 9.2+ KB\n"
     ]
    }
   ],
   "source": [
    "data2122.info()"
   ]
  },
  {
   "cell_type": "code",
   "execution_count": 9,
   "id": "ef9cd2cf",
   "metadata": {},
   "outputs": [
    {
     "data": {
      "text/html": [
       "<div>\n",
       "<style scoped>\n",
       "    .dataframe tbody tr th:only-of-type {\n",
       "        vertical-align: middle;\n",
       "    }\n",
       "\n",
       "    .dataframe tbody tr th {\n",
       "        vertical-align: top;\n",
       "    }\n",
       "\n",
       "    .dataframe thead th {\n",
       "        text-align: right;\n",
       "    }\n",
       "</style>\n",
       "<table border=\"1\" class=\"dataframe\">\n",
       "  <thead>\n",
       "    <tr style=\"text-align: right;\">\n",
       "      <th></th>\n",
       "      <th>Выручка21</th>\n",
       "      <th>Выручка22</th>\n",
       "    </tr>\n",
       "  </thead>\n",
       "  <tbody>\n",
       "    <tr>\n",
       "      <th>count</th>\n",
       "      <td>2.960000e+02</td>\n",
       "      <td>2.960000e+02</td>\n",
       "    </tr>\n",
       "    <tr>\n",
       "      <th>mean</th>\n",
       "      <td>1.894054e+05</td>\n",
       "      <td>2.078045e+05</td>\n",
       "    </tr>\n",
       "    <tr>\n",
       "      <th>std</th>\n",
       "      <td>2.648299e+05</td>\n",
       "      <td>2.874242e+05</td>\n",
       "    </tr>\n",
       "    <tr>\n",
       "      <th>min</th>\n",
       "      <td>0.000000e+00</td>\n",
       "      <td>0.000000e+00</td>\n",
       "    </tr>\n",
       "    <tr>\n",
       "      <th>25%</th>\n",
       "      <td>1.182100e+04</td>\n",
       "      <td>2.322925e+04</td>\n",
       "    </tr>\n",
       "    <tr>\n",
       "      <th>50%</th>\n",
       "      <td>8.787250e+04</td>\n",
       "      <td>1.180020e+05</td>\n",
       "    </tr>\n",
       "    <tr>\n",
       "      <th>75%</th>\n",
       "      <td>2.801795e+05</td>\n",
       "      <td>2.697045e+05</td>\n",
       "    </tr>\n",
       "    <tr>\n",
       "      <th>max</th>\n",
       "      <td>2.265063e+06</td>\n",
       "      <td>2.544813e+06</td>\n",
       "    </tr>\n",
       "  </tbody>\n",
       "</table>\n",
       "</div>"
      ],
      "text/plain": [
       "          Выручка21     Выручка22\n",
       "count  2.960000e+02  2.960000e+02\n",
       "mean   1.894054e+05  2.078045e+05\n",
       "std    2.648299e+05  2.874242e+05\n",
       "min    0.000000e+00  0.000000e+00\n",
       "25%    1.182100e+04  2.322925e+04\n",
       "50%    8.787250e+04  1.180020e+05\n",
       "75%    2.801795e+05  2.697045e+05\n",
       "max    2.265063e+06  2.544813e+06"
      ]
     },
     "execution_count": 9,
     "metadata": {},
     "output_type": "execute_result"
    }
   ],
   "source": [
    "data2122.describe()"
   ]
  },
  {
   "cell_type": "code",
   "execution_count": 10,
   "id": "48bad056",
   "metadata": {},
   "outputs": [
    {
     "data": {
      "text/html": [
       "<div>\n",
       "<style scoped>\n",
       "    .dataframe tbody tr th:only-of-type {\n",
       "        vertical-align: middle;\n",
       "    }\n",
       "\n",
       "    .dataframe tbody tr th {\n",
       "        vertical-align: top;\n",
       "    }\n",
       "\n",
       "    .dataframe thead th {\n",
       "        text-align: right;\n",
       "    }\n",
       "</style>\n",
       "<table border=\"1\" class=\"dataframe\">\n",
       "  <thead>\n",
       "    <tr style=\"text-align: right;\">\n",
       "      <th></th>\n",
       "      <th>Выручка22</th>\n",
       "    </tr>\n",
       "  </thead>\n",
       "  <tbody>\n",
       "    <tr>\n",
       "      <th>count</th>\n",
       "      <td>2.260000e+02</td>\n",
       "    </tr>\n",
       "    <tr>\n",
       "      <th>mean</th>\n",
       "      <td>2.514328e+05</td>\n",
       "    </tr>\n",
       "    <tr>\n",
       "      <th>std</th>\n",
       "      <td>2.970186e+05</td>\n",
       "    </tr>\n",
       "    <tr>\n",
       "      <th>min</th>\n",
       "      <td>1.400000e+03</td>\n",
       "    </tr>\n",
       "    <tr>\n",
       "      <th>25%</th>\n",
       "      <td>7.167725e+04</td>\n",
       "    </tr>\n",
       "    <tr>\n",
       "      <th>50%</th>\n",
       "      <td>1.577615e+05</td>\n",
       "    </tr>\n",
       "    <tr>\n",
       "      <th>75%</th>\n",
       "      <td>3.182360e+05</td>\n",
       "    </tr>\n",
       "    <tr>\n",
       "      <th>max</th>\n",
       "      <td>2.544813e+06</td>\n",
       "    </tr>\n",
       "  </tbody>\n",
       "</table>\n",
       "</div>"
      ],
      "text/plain": [
       "          Выручка22\n",
       "count  2.260000e+02\n",
       "mean   2.514328e+05\n",
       "std    2.970186e+05\n",
       "min    1.400000e+03\n",
       "25%    7.167725e+04\n",
       "50%    1.577615e+05\n",
       "75%    3.182360e+05\n",
       "max    2.544813e+06"
      ]
     },
     "execution_count": 10,
     "metadata": {},
     "output_type": "execute_result"
    }
   ],
   "source": [
    "data2022.describe()"
   ]
  },
  {
   "cell_type": "code",
   "execution_count": 11,
   "id": "d1b8eda4",
   "metadata": {},
   "outputs": [
    {
     "data": {
      "text/html": [
       "<div>\n",
       "<style scoped>\n",
       "    .dataframe tbody tr th:only-of-type {\n",
       "        vertical-align: middle;\n",
       "    }\n",
       "\n",
       "    .dataframe tbody tr th {\n",
       "        vertical-align: top;\n",
       "    }\n",
       "\n",
       "    .dataframe thead th {\n",
       "        text-align: right;\n",
       "    }\n",
       "</style>\n",
       "<table border=\"1\" class=\"dataframe\">\n",
       "  <thead>\n",
       "    <tr style=\"text-align: right;\">\n",
       "      <th></th>\n",
       "      <th>Выручка21</th>\n",
       "    </tr>\n",
       "  </thead>\n",
       "  <tbody>\n",
       "    <tr>\n",
       "      <th>count</th>\n",
       "      <td>2.370000e+02</td>\n",
       "    </tr>\n",
       "    <tr>\n",
       "      <th>mean</th>\n",
       "      <td>2.224567e+05</td>\n",
       "    </tr>\n",
       "    <tr>\n",
       "      <th>std</th>\n",
       "      <td>2.791905e+05</td>\n",
       "    </tr>\n",
       "    <tr>\n",
       "      <th>min</th>\n",
       "      <td>1.000000e+02</td>\n",
       "    </tr>\n",
       "    <tr>\n",
       "      <th>25%</th>\n",
       "      <td>4.573800e+04</td>\n",
       "    </tr>\n",
       "    <tr>\n",
       "      <th>50%</th>\n",
       "      <td>1.291990e+05</td>\n",
       "    </tr>\n",
       "    <tr>\n",
       "      <th>75%</th>\n",
       "      <td>3.178160e+05</td>\n",
       "    </tr>\n",
       "    <tr>\n",
       "      <th>max</th>\n",
       "      <td>2.265063e+06</td>\n",
       "    </tr>\n",
       "  </tbody>\n",
       "</table>\n",
       "</div>"
      ],
      "text/plain": [
       "          Выручка21\n",
       "count  2.370000e+02\n",
       "mean   2.224567e+05\n",
       "std    2.791905e+05\n",
       "min    1.000000e+02\n",
       "25%    4.573800e+04\n",
       "50%    1.291990e+05\n",
       "75%    3.178160e+05\n",
       "max    2.265063e+06"
      ]
     },
     "execution_count": 11,
     "metadata": {},
     "output_type": "execute_result"
    }
   ],
   "source": [
    "data2021.describe()"
   ]
  },
  {
   "cell_type": "code",
   "execution_count": 12,
   "id": "bfc82660",
   "metadata": {},
   "outputs": [],
   "source": [
    "import seaborn as sns"
   ]
  },
  {
   "cell_type": "code",
   "execution_count": 13,
   "id": "e3a6d7dd",
   "metadata": {},
   "outputs": [
    {
     "data": {
      "text/plain": [
       "<AxesSubplot:xlabel='Выручка21', ylabel='Count'>"
      ]
     },
     "execution_count": 13,
     "metadata": {},
     "output_type": "execute_result"
    },
    {
     "data": {
      "image/png": "[encoded data removed]",
      "text/plain": [
       "<Figure size 640x480 with 1 Axes>"
      ]
     },
     "metadata": {},
     "output_type": "display_data"
    }
   ],
   "source": [
    "sns.histplot(data21_22['Выручка21'])"
   ]
  },
  {
   "cell_type": "code",
   "execution_count": 14,
   "id": "84371c81",
   "metadata": {},
   "outputs": [
    {
     "data": {
      "text/plain": [
       "<AxesSubplot:xlabel='Выручка22', ylabel='Count'>"
      ]
     },
     "execution_count": 14,
     "metadata": {},
     "output_type": "execute_result"
    },
    {
     "data": {
      "image/png": "[encoded data removed]",
      "text/plain": [
       "<Figure size 640x480 with 1 Axes>"
      ]
     },
     "metadata": {},
     "output_type": "display_data"
    }
   ],
   "source": [
    "sns.histplot(data21_22['Выручка22'])"
   ]
  },
  {
   "cell_type": "code",
   "execution_count": 15,
   "id": "96f65c75",
   "metadata": {},
   "outputs": [
    {
     "name": "stderr",
     "output_type": "stream",
     "text": [
      "C:\\Users\\secr_de\\anaconda3\\lib\\site-packages\\seaborn\\distributions.py:2619: FutureWarning: `distplot` is a deprecated function and will be removed in a future version. Please adapt your code to use either `displot` (a figure-level function with similar flexibility) or `histplot` (an axes-level function for histograms).\n",
      "  warnings.warn(msg, FutureWarning)\n"
     ]
    },
    {
     "data": {
      "text/plain": [
       "<AxesSubplot:xlabel='Выручка22', ylabel='Density'>"
      ]
     },
     "execution_count": 15,
     "metadata": {},
     "output_type": "execute_result"
    },
    {
     "data": {
      "image/png": "[encoded data removed]",
      "text/plain": [
       "<Figure size 640x480 with 1 Axes>"
      ]
     },
     "metadata": {},
     "output_type": "display_data"
    }
   ],
   "source": [
    "sns.distplot(data21_22['Выручка22'])"
   ]
  },
  {
   "cell_type": "code",
   "execution_count": 16,
   "id": "741ea695",
   "metadata": {},
   "outputs": [],
   "source": [
    "from scipy import stats\n"
   ]
  },
  {
   "cell_type": "code",
   "execution_count": 17,
   "id": "b7ba9cb1",
   "metadata": {},
   "outputs": [],
   "source": [
    "#Load data manager for var\n",
    "manager = pd.read_excel('C:\\\\Users\\\\secr_de\\\\OneDrive\\\\analizz\\\\manger.xlsx')"
   ]
  },
  {
   "cell_type": "code",
   "execution_count": 18,
   "id": "32316343",
   "metadata": {},
   "outputs": [
    {
     "data": {
      "text/html": [
       "<div>\n",
       "<style scoped>\n",
       "    .dataframe tbody tr th:only-of-type {\n",
       "        vertical-align: middle;\n",
       "    }\n",
       "\n",
       "    .dataframe tbody tr th {\n",
       "        vertical-align: top;\n",
       "    }\n",
       "\n",
       "    .dataframe thead th {\n",
       "        text-align: right;\n",
       "    }\n",
       "</style>\n",
       "<table border=\"1\" class=\"dataframe\">\n",
       "  <thead>\n",
       "    <tr style=\"text-align: right;\">\n",
       "      <th></th>\n",
       "      <th>1</th>\n",
       "      <th>2</th>\n",
       "      <th>3</th>\n",
       "      <th>4</th>\n",
       "      <th>5</th>\n",
       "      <th>6</th>\n",
       "      <th>7</th>\n",
       "      <th>8</th>\n",
       "      <th>9</th>\n",
       "      <th>10</th>\n",
       "      <th>11</th>\n",
       "      <th>12</th>\n",
       "    </tr>\n",
       "  </thead>\n",
       "  <tbody>\n",
       "    <tr>\n",
       "      <th>0</th>\n",
       "      <td>1253371.83</td>\n",
       "      <td>1.304779e+06</td>\n",
       "      <td>2.044621e+06</td>\n",
       "      <td>1.019048e+06</td>\n",
       "      <td>1.050815e+06</td>\n",
       "      <td>1699636.00</td>\n",
       "      <td>2026911.51</td>\n",
       "      <td>1056562.0</td>\n",
       "      <td>2373136.02</td>\n",
       "      <td>1782851.95</td>\n",
       "      <td>1883978.71</td>\n",
       "      <td>1801057.12</td>\n",
       "    </tr>\n",
       "    <tr>\n",
       "      <th>1</th>\n",
       "      <td>1224756.04</td>\n",
       "      <td>1.329883e+06</td>\n",
       "      <td>1.956355e+06</td>\n",
       "      <td>3.030052e+06</td>\n",
       "      <td>1.943542e+06</td>\n",
       "      <td>2453945.10</td>\n",
       "      <td>1887655.00</td>\n",
       "      <td>1735397.4</td>\n",
       "      <td>2747183.00</td>\n",
       "      <td>1728196.39</td>\n",
       "      <td>1854217.90</td>\n",
       "      <td>1981449.20</td>\n",
       "    </tr>\n",
       "    <tr>\n",
       "      <th>2</th>\n",
       "      <td>1498428.71</td>\n",
       "      <td>1.644201e+06</td>\n",
       "      <td>1.788360e+06</td>\n",
       "      <td>2.129351e+06</td>\n",
       "      <td>1.999204e+06</td>\n",
       "      <td>1195338.05</td>\n",
       "      <td>1529108.90</td>\n",
       "      <td>682054.5</td>\n",
       "      <td>1459914.02</td>\n",
       "      <td>1520205.70</td>\n",
       "      <td>915583.65</td>\n",
       "      <td>1487670.57</td>\n",
       "    </tr>\n",
       "    <tr>\n",
       "      <th>3</th>\n",
       "      <td>1853226.00</td>\n",
       "      <td>1.426288e+06</td>\n",
       "      <td>1.929778e+06</td>\n",
       "      <td>2.059484e+06</td>\n",
       "      <td>1.664520e+06</td>\n",
       "      <td>1782973.05</td>\n",
       "      <td>1846037.00</td>\n",
       "      <td>1347941.0</td>\n",
       "      <td>1870113.40</td>\n",
       "      <td>2390358.00</td>\n",
       "      <td>1669463.00</td>\n",
       "      <td>2662427.00</td>\n",
       "    </tr>\n",
       "  </tbody>\n",
       "</table>\n",
       "</div>"
      ],
      "text/plain": [
       "           1             2             3             4             5   \\\n",
       "0  1253371.83  1.304779e+06  2.044621e+06  1.019048e+06  1.050815e+06   \n",
       "1  1224756.04  1.329883e+06  1.956355e+06  3.030052e+06  1.943542e+06   \n",
       "2  1498428.71  1.644201e+06  1.788360e+06  2.129351e+06  1.999204e+06   \n",
       "3  1853226.00  1.426288e+06  1.929778e+06  2.059484e+06  1.664520e+06   \n",
       "\n",
       "           6           7          8           9           10          11  \\\n",
       "0  1699636.00  2026911.51  1056562.0  2373136.02  1782851.95  1883978.71   \n",
       "1  2453945.10  1887655.00  1735397.4  2747183.00  1728196.39  1854217.90   \n",
       "2  1195338.05  1529108.90   682054.5  1459914.02  1520205.70   915583.65   \n",
       "3  1782973.05  1846037.00  1347941.0  1870113.40  2390358.00  1669463.00   \n",
       "\n",
       "           12  \n",
       "0  1801057.12  \n",
       "1  1981449.20  \n",
       "2  1487670.57  \n",
       "3  2662427.00  "
      ]
     },
     "execution_count": 18,
     "metadata": {},
     "output_type": "execute_result"
    }
   ],
   "source": [
    "\n",
    "manager.head()"
   ]
  },
  {
   "cell_type": "code",
   "execution_count": 19,
   "id": "bd037bcd",
   "metadata": {},
   "outputs": [
    {
     "data": {
      "text/plain": [
       "1     1253371.83\n",
       "2     1304778.99\n",
       "3     2044620.65\n",
       "4     1019047.95\n",
       "5     1050814.96\n",
       "6     1699636.00\n",
       "7     2026911.51\n",
       "8     1056562.00\n",
       "9     2373136.02\n",
       "10    1782851.95\n",
       "11    1883978.71\n",
       "12    1801057.12\n",
       "Name: 0, dtype: float64"
      ]
     },
     "execution_count": 19,
     "metadata": {},
     "output_type": "execute_result"
    }
   ],
   "source": [
    "manager.iloc[0]"
   ]
  },
  {
   "cell_type": "code",
   "execution_count": null,
   "id": "7fa77c06",
   "metadata": {},
   "outputs": [],
   "source": []
  },
  {
   "cell_type": "code",
   "execution_count": 20,
   "id": "ec6d6a53",
   "metadata": {},
   "outputs": [],
   "source": [
    "ndarr=np.array(manager.loc[0])\n",
    "ndarr1=np.array(manager.loc[1])\n",
    "ndarr2=np.array(manager.loc[2])\n",
    "ndarr3=np.array(manager.loc[3])"
   ]
  },
  {
   "cell_type": "code",
   "execution_count": 21,
   "id": "e63b1df9",
   "metadata": {},
   "outputs": [
    {
     "data": {
      "text/plain": [
       "KruskalResult(statistic=7.344387755102019, pvalue=0.06169453353258112)"
      ]
     },
     "execution_count": 21,
     "metadata": {},
     "output_type": "execute_result"
    }
   ],
   "source": [
    "#Var\n",
    "stats.kruskal(ndarr,ndarr1,ndarr2,ndarr3)\n"
   ]
  },
  {
   "cell_type": "code",
   "execution_count": 22,
   "id": "ee3d559d",
   "metadata": {},
   "outputs": [],
   "source": [
    "arr21=np.array(data21_22['Выручка21'])\n",
    "arr22=np.array(data21_22['Выручка22'])"
   ]
  },
  {
   "cell_type": "code",
   "execution_count": 23,
   "id": "c818400d",
   "metadata": {},
   "outputs": [
    {
     "data": {
      "text/plain": [
       "KruskalResult(statistic=1.25006364523843, pvalue=0.2635403217365058)"
      ]
     },
     "execution_count": 23,
     "metadata": {},
     "output_type": "execute_result"
    }
   ],
   "source": [
    "stats.kruskal(arr21,arr22)"
   ]
  },
  {
   "cell_type": "code",
   "execution_count": 24,
   "id": "eec82df6",
   "metadata": {},
   "outputs": [
    {
     "data": {
      "text/html": [
       "<div>\n",
       "<style scoped>\n",
       "    .dataframe tbody tr th:only-of-type {\n",
       "        vertical-align: middle;\n",
       "    }\n",
       "\n",
       "    .dataframe tbody tr th {\n",
       "        vertical-align: top;\n",
       "    }\n",
       "\n",
       "    .dataframe thead th {\n",
       "        text-align: right;\n",
       "    }\n",
       "</style>\n",
       "<table border=\"1\" class=\"dataframe\">\n",
       "  <thead>\n",
       "    <tr style=\"text-align: right;\">\n",
       "      <th></th>\n",
       "      <th>клиент</th>\n",
       "      <th>Выручка21</th>\n",
       "      <th>Выручка22</th>\n",
       "    </tr>\n",
       "  </thead>\n",
       "  <tbody>\n",
       "    <tr>\n",
       "      <th>71</th>\n",
       "      <td>АБ, ООО г.Хабаровск</td>\n",
       "      <td>0.0</td>\n",
       "      <td>228298.0</td>\n",
       "    </tr>\n",
       "    <tr>\n",
       "      <th>72</th>\n",
       "      <td>АБ, ООО г.Хабаровск</td>\n",
       "      <td>0.0</td>\n",
       "      <td>0.0</td>\n",
       "    </tr>\n",
       "    <tr>\n",
       "      <th>75</th>\n",
       "      <td>ДВ ЭлектроРесурсГрупп ООО г.Хабаровск(бывш. Вл...</td>\n",
       "      <td>0.0</td>\n",
       "      <td>0.0</td>\n",
       "    </tr>\n",
       "    <tr>\n",
       "      <th>76</th>\n",
       "      <td>Дента Мед ООО г.Комсомольск-на-Амуре</td>\n",
       "      <td>0.0</td>\n",
       "      <td>0.0</td>\n",
       "    </tr>\n",
       "    <tr>\n",
       "      <th>77</th>\n",
       "      <td>Инмед плюс ООО г.Хабаровск</td>\n",
       "      <td>0.0</td>\n",
       "      <td>0.0</td>\n",
       "    </tr>\n",
       "    <tr>\n",
       "      <th>78</th>\n",
       "      <td>Клиника доктора Горохова ООО г.Свободный</td>\n",
       "      <td>0.0</td>\n",
       "      <td>0.0</td>\n",
       "    </tr>\n",
       "    <tr>\n",
       "      <th>79</th>\n",
       "      <td>МАЛИНА ООО г.Хабаровск</td>\n",
       "      <td>0.0</td>\n",
       "      <td>0.0</td>\n",
       "    </tr>\n",
       "    <tr>\n",
       "      <th>80</th>\n",
       "      <td>МАЛИНА ООО г.Хабаровск</td>\n",
       "      <td>0.0</td>\n",
       "      <td>201135.0</td>\n",
       "    </tr>\n",
       "    <tr>\n",
       "      <th>83</th>\n",
       "      <td>Наша Клиника-Дент ООО г.Хабаровск</td>\n",
       "      <td>0.0</td>\n",
       "      <td>0.0</td>\n",
       "    </tr>\n",
       "    <tr>\n",
       "      <th>96</th>\n",
       "      <td>Петров Евгений Михайлович г. Хабаровск</td>\n",
       "      <td>0.0</td>\n",
       "      <td>18539.0</td>\n",
       "    </tr>\n",
       "    <tr>\n",
       "      <th>132</th>\n",
       "      <td>Медикус ООО, Хабаровск</td>\n",
       "      <td>0.0</td>\n",
       "      <td>27900.0</td>\n",
       "    </tr>\n",
       "    <tr>\n",
       "      <th>133</th>\n",
       "      <td>Медикус ООО, Хабаровск</td>\n",
       "      <td>0.0</td>\n",
       "      <td>65465.0</td>\n",
       "    </tr>\n",
       "    <tr>\n",
       "      <th>155</th>\n",
       "      <td>Барановский Е.С. ИП г. Благовещенск</td>\n",
       "      <td>0.0</td>\n",
       "      <td>13800.0</td>\n",
       "    </tr>\n",
       "    <tr>\n",
       "      <th>156</th>\n",
       "      <td>Барановский Е.С. ИП г. Благовещенск</td>\n",
       "      <td>0.0</td>\n",
       "      <td>57514.0</td>\n",
       "    </tr>\n",
       "    <tr>\n",
       "      <th>186</th>\n",
       "      <td>Вита-Дент ООО, г.Хабаровск</td>\n",
       "      <td>0.0</td>\n",
       "      <td>0.0</td>\n",
       "    </tr>\n",
       "    <tr>\n",
       "      <th>187</th>\n",
       "      <td>Денталика ДВ ООО г.Хабаровск, Судимся с ними, ...</td>\n",
       "      <td>0.0</td>\n",
       "      <td>0.0</td>\n",
       "    </tr>\n",
       "    <tr>\n",
       "      <th>188</th>\n",
       "      <td>Денталика ДВ ООО г.Хабаровск, Судимся с ними, ...</td>\n",
       "      <td>0.0</td>\n",
       "      <td>0.0</td>\n",
       "    </tr>\n",
       "    <tr>\n",
       "      <th>189</th>\n",
       "      <td>Денталика ДВ ООО г.Хабаровск, Судимся с ними, ...</td>\n",
       "      <td>0.0</td>\n",
       "      <td>0.0</td>\n",
       "    </tr>\n",
       "    <tr>\n",
       "      <th>190</th>\n",
       "      <td>Денталика ДВ ООО г.Хабаровск, Судимся с ними, ...</td>\n",
       "      <td>0.0</td>\n",
       "      <td>0.0</td>\n",
       "    </tr>\n",
       "    <tr>\n",
       "      <th>191</th>\n",
       "      <td>Ортофрэш ООО г.Хабаровск</td>\n",
       "      <td>0.0</td>\n",
       "      <td>0.0</td>\n",
       "    </tr>\n",
       "    <tr>\n",
       "      <th>192</th>\n",
       "      <td>Пятёрка ООО, г.Хабаровск</td>\n",
       "      <td>0.0</td>\n",
       "      <td>72377.0</td>\n",
       "    </tr>\n",
       "    <tr>\n",
       "      <th>193</th>\n",
       "      <td>Статус ООО, г.Хабаровск, работают по записи</td>\n",
       "      <td>0.0</td>\n",
       "      <td>0.0</td>\n",
       "    </tr>\n",
       "    <tr>\n",
       "      <th>194</th>\n",
       "      <td>СТАТУС-ДЕНТ ООО г.Благовещенск</td>\n",
       "      <td>0.0</td>\n",
       "      <td>1054131.0</td>\n",
       "    </tr>\n",
       "    <tr>\n",
       "      <th>195</th>\n",
       "      <td>СТАТУС-ДЕНТ ООО г.Благовещенск</td>\n",
       "      <td>0.0</td>\n",
       "      <td>0.0</td>\n",
       "    </tr>\n",
       "    <tr>\n",
       "      <th>198</th>\n",
       "      <td>Стоматология ООО пгт.Магдагачи.</td>\n",
       "      <td>0.0</td>\n",
       "      <td>355101.0</td>\n",
       "    </tr>\n",
       "    <tr>\n",
       "      <th>199</th>\n",
       "      <td>Стоматология ООО пгт.Магдагачи.</td>\n",
       "      <td>0.0</td>\n",
       "      <td>0.0</td>\n",
       "    </tr>\n",
       "    <tr>\n",
       "      <th>202</th>\n",
       "      <td>Стомсмайл ООО г.Хабаровск</td>\n",
       "      <td>0.0</td>\n",
       "      <td>0.0</td>\n",
       "    </tr>\n",
       "    <tr>\n",
       "      <th>203</th>\n",
       "      <td>Стомэкс ООО г.Хабаровск ,</td>\n",
       "      <td>0.0</td>\n",
       "      <td>150303.0</td>\n",
       "    </tr>\n",
       "    <tr>\n",
       "      <th>204</th>\n",
       "      <td>Татьяна ООО,  г.Хабаровск</td>\n",
       "      <td>0.0</td>\n",
       "      <td>5250.0</td>\n",
       "    </tr>\n",
       "    <tr>\n",
       "      <th>275</th>\n",
       "      <td>(не рабочий) Дента-Люкс ООО г. Комсомольск-на ...</td>\n",
       "      <td>0.0</td>\n",
       "      <td>0.0</td>\n",
       "    </tr>\n",
       "    <tr>\n",
       "      <th>276</th>\n",
       "      <td>А-СТОМ ООО г.Благовещенск</td>\n",
       "      <td>0.0</td>\n",
       "      <td>385801.0</td>\n",
       "    </tr>\n",
       "    <tr>\n",
       "      <th>277</th>\n",
       "      <td>АЙДЕНТ ООО г.Хабаровск, ( везём на ул. Гамарника)</td>\n",
       "      <td>0.0</td>\n",
       "      <td>0.0</td>\n",
       "    </tr>\n",
       "    <tr>\n",
       "      <th>278</th>\n",
       "      <td>Аурика ООО г. Благовещенск</td>\n",
       "      <td>0.0</td>\n",
       "      <td>185435.0</td>\n",
       "    </tr>\n",
       "    <tr>\n",
       "      <th>279</th>\n",
       "      <td>Богаченко О.С. ИП г.Благовещенск</td>\n",
       "      <td>0.0</td>\n",
       "      <td>8500.0</td>\n",
       "    </tr>\n",
       "    <tr>\n",
       "      <th>280</th>\n",
       "      <td>ВИПСТОМ ООО г.Хабаровск</td>\n",
       "      <td>0.0</td>\n",
       "      <td>16860.0</td>\n",
       "    </tr>\n",
       "    <tr>\n",
       "      <th>281</th>\n",
       "      <td>Дантист+ ООО г. Благовещенск( Закрыт)</td>\n",
       "      <td>0.0</td>\n",
       "      <td>0.0</td>\n",
       "    </tr>\n",
       "    <tr>\n",
       "      <th>282</th>\n",
       "      <td>КИЧ-СТОМ ООО г.Благовещенск</td>\n",
       "      <td>0.0</td>\n",
       "      <td>124500.0</td>\n",
       "    </tr>\n",
       "    <tr>\n",
       "      <th>283</th>\n",
       "      <td>ЛазерЛэнд ООО, г. Биробиджан, переоформлен и п...</td>\n",
       "      <td>0.0</td>\n",
       "      <td>0.0</td>\n",
       "    </tr>\n",
       "    <tr>\n",
       "      <th>284</th>\n",
       "      <td>МАРИЯ ОО г. Благовещенск</td>\n",
       "      <td>0.0</td>\n",
       "      <td>201316.0</td>\n",
       "    </tr>\n",
       "    <tr>\n",
       "      <th>285</th>\n",
       "      <td>Стоматолог ООО г.Хабаровск</td>\n",
       "      <td>0.0</td>\n",
       "      <td>0.0</td>\n",
       "    </tr>\n",
       "    <tr>\n",
       "      <th>286</th>\n",
       "      <td>Улыбка Плюс ООО г.Советская Гавань</td>\n",
       "      <td>0.0</td>\n",
       "      <td>30827.0</td>\n",
       "    </tr>\n",
       "    <tr>\n",
       "      <th>287</th>\n",
       "      <td>Форттрейд  ООО,  г.Хабаровск Сеть клиник</td>\n",
       "      <td>0.0</td>\n",
       "      <td>0.0</td>\n",
       "    </tr>\n",
       "    <tr>\n",
       "      <th>288</th>\n",
       "      <td>Эстелайт ДВ ООО г. Благовещенск</td>\n",
       "      <td>0.0</td>\n",
       "      <td>42270.0</td>\n",
       "    </tr>\n",
       "  </tbody>\n",
       "</table>\n",
       "</div>"
      ],
      "text/plain": [
       "                                                клиент  Выручка21  Выручка22\n",
       "71                                 АБ, ООО г.Хабаровск        0.0   228298.0\n",
       "72                                 АБ, ООО г.Хабаровск        0.0        0.0\n",
       "75   ДВ ЭлектроРесурсГрупп ООО г.Хабаровск(бывш. Вл...        0.0        0.0\n",
       "76                Дента Мед ООО г.Комсомольск-на-Амуре        0.0        0.0\n",
       "77                          Инмед плюс ООО г.Хабаровск        0.0        0.0\n",
       "78            Клиника доктора Горохова ООО г.Свободный        0.0        0.0\n",
       "79                              МАЛИНА ООО г.Хабаровск        0.0        0.0\n",
       "80                              МАЛИНА ООО г.Хабаровск        0.0   201135.0\n",
       "83                   Наша Клиника-Дент ООО г.Хабаровск        0.0        0.0\n",
       "96              Петров Евгений Михайлович г. Хабаровск        0.0    18539.0\n",
       "132                             Медикус ООО, Хабаровск        0.0    27900.0\n",
       "133                             Медикус ООО, Хабаровск        0.0    65465.0\n",
       "155                Барановский Е.С. ИП г. Благовещенск        0.0    13800.0\n",
       "156                Барановский Е.С. ИП г. Благовещенск        0.0    57514.0\n",
       "186                         Вита-Дент ООО, г.Хабаровск        0.0        0.0\n",
       "187  Денталика ДВ ООО г.Хабаровск, Судимся с ними, ...        0.0        0.0\n",
       "188  Денталика ДВ ООО г.Хабаровск, Судимся с ними, ...        0.0        0.0\n",
       "189  Денталика ДВ ООО г.Хабаровск, Судимся с ними, ...        0.0        0.0\n",
       "190  Денталика ДВ ООО г.Хабаровск, Судимся с ними, ...        0.0        0.0\n",
       "191                           Ортофрэш ООО г.Хабаровск        0.0        0.0\n",
       "192                           Пятёрка ООО, г.Хабаровск        0.0    72377.0\n",
       "193       Статус ООО, г.Хабаровск, работают по записи         0.0        0.0\n",
       "194                     СТАТУС-ДЕНТ ООО г.Благовещенск        0.0  1054131.0\n",
       "195                     СТАТУС-ДЕНТ ООО г.Благовещенск        0.0        0.0\n",
       "198                    Стоматология ООО пгт.Магдагачи.        0.0   355101.0\n",
       "199                    Стоматология ООО пгт.Магдагачи.        0.0        0.0\n",
       "202                          Стомсмайл ООО г.Хабаровск        0.0        0.0\n",
       "203                         Стомэкс ООО г.Хабаровск ,         0.0   150303.0\n",
       "204                          Татьяна ООО,  г.Хабаровск        0.0     5250.0\n",
       "275  (не рабочий) Дента-Люкс ООО г. Комсомольск-на ...        0.0        0.0\n",
       "276                          А-СТОМ ООО г.Благовещенск        0.0   385801.0\n",
       "277  АЙДЕНТ ООО г.Хабаровск, ( везём на ул. Гамарника)        0.0        0.0\n",
       "278                         Аурика ООО г. Благовещенск        0.0   185435.0\n",
       "279                   Богаченко О.С. ИП г.Благовещенск        0.0     8500.0\n",
       "280                            ВИПСТОМ ООО г.Хабаровск        0.0    16860.0\n",
       "281              Дантист+ ООО г. Благовещенск( Закрыт)        0.0        0.0\n",
       "282                        КИЧ-СТОМ ООО г.Благовещенск        0.0   124500.0\n",
       "283  ЛазерЛэнд ООО, г. Биробиджан, переоформлен и п...        0.0        0.0\n",
       "284                           МАРИЯ ОО г. Благовещенск        0.0   201316.0\n",
       "285                         Стоматолог ООО г.Хабаровск        0.0        0.0\n",
       "286                 Улыбка Плюс ООО г.Советская Гавань        0.0    30827.0\n",
       "287           Форттрейд  ООО,  г.Хабаровск Сеть клиник        0.0        0.0\n",
       "288                    Эстелайт ДВ ООО г. Благовещенск        0.0    42270.0"
      ]
     },
     "execution_count": 24,
     "metadata": {},
     "output_type": "execute_result"
    }
   ],
   "source": [
    "data2122[data2122['Выручка21']==0]"
   ]
  },
  {
   "cell_type": "code",
   "execution_count": 49,
   "id": "1eac3e76",
   "metadata": {},
   "outputs": [
    {
     "data": {
      "text/plain": [
       "array([<AxesSubplot:ylabel='Frequency'>, <AxesSubplot:ylabel='Frequency'>],\n",
       "      dtype=object)"
      ]
     },
     "execution_count": 49,
     "metadata": {},
     "output_type": "execute_result"
    },
    {
     "data": {
      "image/png": "[encoded data removed]",
      "text/plain": [
       "<Figure size 640x480 with 2 Axes>"
      ]
     },
     "metadata": {},
     "output_type": "display_data"
    }
   ],
   "source": [
    "data21_22.plot.hist(subplots=True)"
   ]
  },
  {
   "cell_type": "code",
   "execution_count": 51,
   "id": "d767d88b",
   "metadata": {},
   "outputs": [
    {
     "data": {
      "text/plain": [
       "<AxesSubplot:>"
      ]
     },
     "execution_count": 51,
     "metadata": {},
     "output_type": "execute_result"
    },
    {
     "data": {
      "image/png": "[encoded data removed]",
      "text/plain": [
       "<Figure size 640x480 with 1 Axes>"
      ]
     },
     "metadata": {},
     "output_type": "display_data"
    }
   ],
   "source": [
    "manager.plot()"
   ]
  },
  {
   "cell_type": "code",
   "execution_count": 43,
   "id": "ba4536cb",
   "metadata": {},
   "outputs": [
    {
     "data": {
      "text/html": [
       "<style type=\"text/css\">\n",
       "#T_ea985_row0_col0 {\n",
       "  background-color: #280592;\n",
       "  color: #f1f1f1;\n",
       "}\n",
       "#T_ea985_row0_col1, #T_ea985_row0_col3, #T_ea985_row0_col4, #T_ea985_row1_col0, #T_ea985_row2_col2, #T_ea985_row2_col5, #T_ea985_row2_col6, #T_ea985_row2_col7, #T_ea985_row2_col8, #T_ea985_row2_col9, #T_ea985_row2_col10, #T_ea985_row2_col11 {\n",
       "  background-color: #0d0887;\n",
       "  color: #f1f1f1;\n",
       "}\n",
       "#T_ea985_row0_col2, #T_ea985_row0_col6, #T_ea985_row0_col10, #T_ea985_row1_col3, #T_ea985_row1_col5, #T_ea985_row1_col7, #T_ea985_row1_col8, #T_ea985_row2_col1, #T_ea985_row2_col4, #T_ea985_row3_col0, #T_ea985_row3_col9, #T_ea985_row3_col11 {\n",
       "  background-color: #f0f921;\n",
       "  color: #000000;\n",
       "}\n",
       "#T_ea985_row0_col5 {\n",
       "  background-color: #b12a90;\n",
       "  color: #f1f1f1;\n",
       "}\n",
       "#T_ea985_row0_col7, #T_ea985_row3_col1 {\n",
       "  background-color: #a31e9a;\n",
       "  color: #f1f1f1;\n",
       "}\n",
       "#T_ea985_row0_col8 {\n",
       "  background-color: #f3874a;\n",
       "  color: #f1f1f1;\n",
       "}\n",
       "#T_ea985_row0_col9 {\n",
       "  background-color: #910ea3;\n",
       "  color: #f1f1f1;\n",
       "}\n",
       "#T_ea985_row0_col11 {\n",
       "  background-color: #8405a7;\n",
       "  color: #f1f1f1;\n",
       "}\n",
       "#T_ea985_row1_col1 {\n",
       "  background-color: #350498;\n",
       "  color: #f1f1f1;\n",
       "}\n",
       "#T_ea985_row1_col2 {\n",
       "  background-color: #eb7556;\n",
       "  color: #f1f1f1;\n",
       "}\n",
       "#T_ea985_row1_col4 {\n",
       "  background-color: #f8df25;\n",
       "  color: #000000;\n",
       "}\n",
       "#T_ea985_row1_col6 {\n",
       "  background-color: #f58b47;\n",
       "  color: #f1f1f1;\n",
       "}\n",
       "#T_ea985_row1_col9 {\n",
       "  background-color: #7a02a8;\n",
       "  color: #f1f1f1;\n",
       "}\n",
       "#T_ea985_row1_col10 {\n",
       "  background-color: #f4ed27;\n",
       "  color: #000000;\n",
       "}\n",
       "#T_ea985_row1_col11 {\n",
       "  background-color: #b6308b;\n",
       "  color: #f1f1f1;\n",
       "}\n",
       "#T_ea985_row2_col0 {\n",
       "  background-color: #bb3488;\n",
       "  color: #f1f1f1;\n",
       "}\n",
       "#T_ea985_row2_col3, #T_ea985_row3_col2 {\n",
       "  background-color: #d7566c;\n",
       "  color: #f1f1f1;\n",
       "}\n",
       "#T_ea985_row3_col3 {\n",
       "  background-color: #cf4c74;\n",
       "  color: #f1f1f1;\n",
       "}\n",
       "#T_ea985_row3_col4 {\n",
       "  background-color: #e97257;\n",
       "  color: #f1f1f1;\n",
       "}\n",
       "#T_ea985_row3_col5 {\n",
       "  background-color: #c33d80;\n",
       "  color: #f1f1f1;\n",
       "}\n",
       "#T_ea985_row3_col6 {\n",
       "  background-color: #e76f5a;\n",
       "  color: #f1f1f1;\n",
       "}\n",
       "#T_ea985_row3_col7 {\n",
       "  background-color: #e76e5b;\n",
       "  color: #f1f1f1;\n",
       "}\n",
       "#T_ea985_row3_col8 {\n",
       "  background-color: #9613a1;\n",
       "  color: #f1f1f1;\n",
       "}\n",
       "#T_ea985_row3_col10 {\n",
       "  background-color: #fb9f3a;\n",
       "  color: #000000;\n",
       "}\n",
       "</style>\n",
       "<table id=\"T_ea985\">\n",
       "  <thead>\n",
       "    <tr>\n",
       "      <th class=\"blank level0\" >&nbsp;</th>\n",
       "      <th id=\"T_ea985_level0_col0\" class=\"col_heading level0 col0\" >1</th>\n",
       "      <th id=\"T_ea985_level0_col1\" class=\"col_heading level0 col1\" >2</th>\n",
       "      <th id=\"T_ea985_level0_col2\" class=\"col_heading level0 col2\" >3</th>\n",
       "      <th id=\"T_ea985_level0_col3\" class=\"col_heading level0 col3\" >4</th>\n",
       "      <th id=\"T_ea985_level0_col4\" class=\"col_heading level0 col4\" >5</th>\n",
       "      <th id=\"T_ea985_level0_col5\" class=\"col_heading level0 col5\" >6</th>\n",
       "      <th id=\"T_ea985_level0_col6\" class=\"col_heading level0 col6\" >7</th>\n",
       "      <th id=\"T_ea985_level0_col7\" class=\"col_heading level0 col7\" >8</th>\n",
       "      <th id=\"T_ea985_level0_col8\" class=\"col_heading level0 col8\" >9</th>\n",
       "      <th id=\"T_ea985_level0_col9\" class=\"col_heading level0 col9\" >10</th>\n",
       "      <th id=\"T_ea985_level0_col10\" class=\"col_heading level0 col10\" >11</th>\n",
       "      <th id=\"T_ea985_level0_col11\" class=\"col_heading level0 col11\" >12</th>\n",
       "    </tr>\n",
       "  </thead>\n",
       "  <tbody>\n",
       "    <tr>\n",
       "      <th id=\"T_ea985_level0_row0\" class=\"row_heading level0 row0\" >0</th>\n",
       "      <td id=\"T_ea985_row0_col0\" class=\"data row0 col0\" >1253371.830000</td>\n",
       "      <td id=\"T_ea985_row0_col1\" class=\"data row0 col1\" >1304778.990000</td>\n",
       "      <td id=\"T_ea985_row0_col2\" class=\"data row0 col2\" >2044620.650000</td>\n",
       "      <td id=\"T_ea985_row0_col3\" class=\"data row0 col3\" >1019047.950000</td>\n",
       "      <td id=\"T_ea985_row0_col4\" class=\"data row0 col4\" >1050814.960000</td>\n",
       "      <td id=\"T_ea985_row0_col5\" class=\"data row0 col5\" >1699636.000000</td>\n",
       "      <td id=\"T_ea985_row0_col6\" class=\"data row0 col6\" >2026911.510000</td>\n",
       "      <td id=\"T_ea985_row0_col7\" class=\"data row0 col7\" >1056562.000000</td>\n",
       "      <td id=\"T_ea985_row0_col8\" class=\"data row0 col8\" >2373136.020000</td>\n",
       "      <td id=\"T_ea985_row0_col9\" class=\"data row0 col9\" >1782851.950000</td>\n",
       "      <td id=\"T_ea985_row0_col10\" class=\"data row0 col10\" >1883978.710000</td>\n",
       "      <td id=\"T_ea985_row0_col11\" class=\"data row0 col11\" >1801057.120000</td>\n",
       "    </tr>\n",
       "    <tr>\n",
       "      <th id=\"T_ea985_level0_row1\" class=\"row_heading level0 row1\" >1</th>\n",
       "      <td id=\"T_ea985_row1_col0\" class=\"data row1 col0\" >1224756.040000</td>\n",
       "      <td id=\"T_ea985_row1_col1\" class=\"data row1 col1\" >1329883.400000</td>\n",
       "      <td id=\"T_ea985_row1_col2\" class=\"data row1 col2\" >1956355.050000</td>\n",
       "      <td id=\"T_ea985_row1_col3\" class=\"data row1 col3\" >3030052.000000</td>\n",
       "      <td id=\"T_ea985_row1_col4\" class=\"data row1 col4\" >1943541.800000</td>\n",
       "      <td id=\"T_ea985_row1_col5\" class=\"data row1 col5\" >2453945.100000</td>\n",
       "      <td id=\"T_ea985_row1_col6\" class=\"data row1 col6\" >1887655.000000</td>\n",
       "      <td id=\"T_ea985_row1_col7\" class=\"data row1 col7\" >1735397.400000</td>\n",
       "      <td id=\"T_ea985_row1_col8\" class=\"data row1 col8\" >2747183.000000</td>\n",
       "      <td id=\"T_ea985_row1_col9\" class=\"data row1 col9\" >1728196.390000</td>\n",
       "      <td id=\"T_ea985_row1_col10\" class=\"data row1 col10\" >1854217.900000</td>\n",
       "      <td id=\"T_ea985_row1_col11\" class=\"data row1 col11\" >1981449.200000</td>\n",
       "    </tr>\n",
       "    <tr>\n",
       "      <th id=\"T_ea985_level0_row2\" class=\"row_heading level0 row2\" >2</th>\n",
       "      <td id=\"T_ea985_row2_col0\" class=\"data row2 col0\" >1498428.710000</td>\n",
       "      <td id=\"T_ea985_row2_col1\" class=\"data row2 col1\" >1644201.090000</td>\n",
       "      <td id=\"T_ea985_row2_col2\" class=\"data row2 col2\" >1788359.610000</td>\n",
       "      <td id=\"T_ea985_row2_col3\" class=\"data row2 col3\" >2129350.810000</td>\n",
       "      <td id=\"T_ea985_row2_col4\" class=\"data row2 col4\" >1999203.910000</td>\n",
       "      <td id=\"T_ea985_row2_col5\" class=\"data row2 col5\" >1195338.050000</td>\n",
       "      <td id=\"T_ea985_row2_col6\" class=\"data row2 col6\" >1529108.900000</td>\n",
       "      <td id=\"T_ea985_row2_col7\" class=\"data row2 col7\" >682054.500000</td>\n",
       "      <td id=\"T_ea985_row2_col8\" class=\"data row2 col8\" >1459914.020000</td>\n",
       "      <td id=\"T_ea985_row2_col9\" class=\"data row2 col9\" >1520205.700000</td>\n",
       "      <td id=\"T_ea985_row2_col10\" class=\"data row2 col10\" >915583.650000</td>\n",
       "      <td id=\"T_ea985_row2_col11\" class=\"data row2 col11\" >1487670.570000</td>\n",
       "    </tr>\n",
       "    <tr>\n",
       "      <th id=\"T_ea985_level0_row3\" class=\"row_heading level0 row3\" >3</th>\n",
       "      <td id=\"T_ea985_row3_col0\" class=\"data row3 col0\" >1853226.000000</td>\n",
       "      <td id=\"T_ea985_row3_col1\" class=\"data row3 col1\" >1426287.826667</td>\n",
       "      <td id=\"T_ea985_row3_col2\" class=\"data row3 col2\" >1929778.436667</td>\n",
       "      <td id=\"T_ea985_row3_col3\" class=\"data row3 col3\" >2059483.586667</td>\n",
       "      <td id=\"T_ea985_row3_col4\" class=\"data row3 col4\" >1664520.223333</td>\n",
       "      <td id=\"T_ea985_row3_col5\" class=\"data row3 col5\" >1782973.050000</td>\n",
       "      <td id=\"T_ea985_row3_col6\" class=\"data row3 col6\" >1846037.000000</td>\n",
       "      <td id=\"T_ea985_row3_col7\" class=\"data row3 col7\" >1347941.000000</td>\n",
       "      <td id=\"T_ea985_row3_col8\" class=\"data row3 col8\" >1870113.400000</td>\n",
       "      <td id=\"T_ea985_row3_col9\" class=\"data row3 col9\" >2390358.000000</td>\n",
       "      <td id=\"T_ea985_row3_col10\" class=\"data row3 col10\" >1669463.000000</td>\n",
       "      <td id=\"T_ea985_row3_col11\" class=\"data row3 col11\" >2662427.000000</td>\n",
       "    </tr>\n",
       "  </tbody>\n",
       "</table>\n"
      ],
      "text/plain": [
       "<pandas.io.formats.style.Styler at 0x25d3629e5b0>"
      ]
     },
     "execution_count": 43,
     "metadata": {},
     "output_type": "execute_result"
    }
   ],
   "source": [
    "manager.style.background_gradient(cmap='plasma')"
   ]
  },
  {
   "cell_type": "code",
   "execution_count": null,
   "id": "c8fc7518",
   "metadata": {},
   "outputs": [],
   "source": []
  }
 ],
 "metadata": {
  "kernelspec": {
   "display_name": "Python 3 (ipykernel)",
   "language": "python",
   "name": "python3"
  },
  "language_info": {
   "codemirror_mode": {
    "name": "ipython",
    "version": 3
   },
   "file_extension": ".py",
   "mimetype": "text/x-python",
   "name": "python",
   "nbconvert_exporter": "python",
   "pygments_lexer": "ipython3",
   "version": "3.9.13"
  }
 },
 "nbformat": 4,
 "nbformat_minor": 5
}
