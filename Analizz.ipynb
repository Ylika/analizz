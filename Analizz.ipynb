{
 "cells": [
  {
   "cell_type": "code",
   "execution_count": 1,
   "id": "e95913f7",
   "metadata": {},
   "outputs": [
    {
     "name": "stdout",
     "output_type": "stream",
     "text": [
      "hellow Edward\n"
     ]
    }
   ],
   "source": [
    "print ('hellow Edward')"
   ]
  },
  {
   "cell_type": "code",
   "execution_count": 2,
   "id": "78c0105a",
   "metadata": {},
   "outputs": [],
   "source": [
    "import pandas as pd\n",
    "import numpy as np\n",
    "# Python ≥3.5 is required\n",
    "import sys\n",
    "assert sys.version_info >= (3, 5)\n",
    "\n",
    "# Scikit-Learn ≥0.20 is required\n",
    "import sklearn\n",
    "assert sklearn.__version__ >= \"0.20\"\n",
    "\n",
    "# Common imports\n",
    "import numpy as np\n",
    "import os\n"
   ]
  },
  {
   "cell_type": "code",
   "execution_count": 8,
   "id": "180f31a1",
   "metadata": {},
   "outputs": [],
   "source": [
    "data2021 = pd.read_excel('//Users//eduard//analizz//клиенты 21года.xlsx')\n",
    "data2022 = pd.read_excel('//Users//eduard//analizz//клиенты 22года.xlsx')"
   ]
  },
  {
   "cell_type": "code",
   "execution_count": 9,
   "id": "e7eb4a3e",
   "metadata": {},
   "outputs": [
    {
     "data": {
      "text/html": [
       "<div>\n",
       "<style scoped>\n",
       "    .dataframe tbody tr th:only-of-type {\n",
       "        vertical-align: middle;\n",
       "    }\n",
       "\n",
       "    .dataframe tbody tr th {\n",
       "        vertical-align: top;\n",
       "    }\n",
       "\n",
       "    .dataframe thead th {\n",
       "        text-align: right;\n",
       "    }\n",
       "</style>\n",
       "<table border=\"1\" class=\"dataframe\">\n",
       "  <thead>\n",
       "    <tr style=\"text-align: right;\">\n",
       "      <th></th>\n",
       "      <th>клиент</th>\n",
       "      <th>Выручка</th>\n",
       "    </tr>\n",
       "  </thead>\n",
       "  <tbody>\n",
       "    <tr>\n",
       "      <th>0</th>\n",
       "      <td>Ника-Мед ООО г.Комсомольск-на-Амуре</td>\n",
       "      <td>1855434.0</td>\n",
       "    </tr>\n",
       "    <tr>\n",
       "      <th>1</th>\n",
       "      <td>ДентМастер ООО г.Биробиджан</td>\n",
       "      <td>935679.4</td>\n",
       "    </tr>\n",
       "    <tr>\n",
       "      <th>2</th>\n",
       "      <td>Авторская стоматология ООО г.Хабаровск</td>\n",
       "      <td>716589.0</td>\n",
       "    </tr>\n",
       "    <tr>\n",
       "      <th>3</th>\n",
       "      <td>Дентал-Сервис ООО г.Биробиджан</td>\n",
       "      <td>712288.0</td>\n",
       "    </tr>\n",
       "    <tr>\n",
       "      <th>4</th>\n",
       "      <td>Тари-КОМ ООО г.Комсомольск-на-Амуре</td>\n",
       "      <td>685871.3</td>\n",
       "    </tr>\n",
       "  </tbody>\n",
       "</table>\n",
       "</div>"
      ],
      "text/plain": [
       "                                   клиент    Выручка\n",
       "0     Ника-Мед ООО г.Комсомольск-на-Амуре  1855434.0\n",
       "1             ДентМастер ООО г.Биробиджан   935679.4\n",
       "2  Авторская стоматология ООО г.Хабаровск   716589.0\n",
       "3          Дентал-Сервис ООО г.Биробиджан   712288.0\n",
       "4     Тари-КОМ ООО г.Комсомольск-на-Амуре   685871.3"
      ]
     },
     "execution_count": 9,
     "metadata": {},
     "output_type": "execute_result"
    }
   ],
   "source": [
    "data2021.head()"
   ]
  },
  {
   "cell_type": "code",
   "execution_count": 10,
   "id": "42c6102f",
   "metadata": {},
   "outputs": [
    {
     "data": {
      "text/html": [
       "<div>\n",
       "<style scoped>\n",
       "    .dataframe tbody tr th:only-of-type {\n",
       "        vertical-align: middle;\n",
       "    }\n",
       "\n",
       "    .dataframe tbody tr th {\n",
       "        vertical-align: top;\n",
       "    }\n",
       "\n",
       "    .dataframe thead th {\n",
       "        text-align: right;\n",
       "    }\n",
       "</style>\n",
       "<table border=\"1\" class=\"dataframe\">\n",
       "  <thead>\n",
       "    <tr style=\"text-align: right;\">\n",
       "      <th></th>\n",
       "      <th>клиент</th>\n",
       "      <th>Выручка</th>\n",
       "    </tr>\n",
       "  </thead>\n",
       "  <tbody>\n",
       "    <tr>\n",
       "      <th>0</th>\n",
       "      <td>Мед ИНТЕЛЛЕКТ (Гармония), ООО г.Хабаровск</td>\n",
       "      <td>1285915.0</td>\n",
       "    </tr>\n",
       "    <tr>\n",
       "      <th>1</th>\n",
       "      <td>СТАТУС-ДЕНТ ООО г.Благовещенск</td>\n",
       "      <td>1054131.0</td>\n",
       "    </tr>\n",
       "    <tr>\n",
       "      <th>2</th>\n",
       "      <td>СК Доктор Ким ООО г.Хабаровск</td>\n",
       "      <td>1035386.0</td>\n",
       "    </tr>\n",
       "    <tr>\n",
       "      <th>3</th>\n",
       "      <td>Дента Премиум ООО г. Комсомольск-на-Амуре</td>\n",
       "      <td>716335.0</td>\n",
       "    </tr>\n",
       "    <tr>\n",
       "      <th>4</th>\n",
       "      <td>АФИ-ГРУПП ООО г.Благовещенск</td>\n",
       "      <td>641394.0</td>\n",
       "    </tr>\n",
       "  </tbody>\n",
       "</table>\n",
       "</div>"
      ],
      "text/plain": [
       "                                      клиент    Выручка\n",
       "0  Мед ИНТЕЛЛЕКТ (Гармония), ООО г.Хабаровск  1285915.0\n",
       "1             СТАТУС-ДЕНТ ООО г.Благовещенск  1054131.0\n",
       "2              СК Доктор Ким ООО г.Хабаровск  1035386.0\n",
       "3  Дента Премиум ООО г. Комсомольск-на-Амуре   716335.0\n",
       "4               АФИ-ГРУПП ООО г.Благовещенск   641394.0"
      ]
     },
     "execution_count": 10,
     "metadata": {},
     "output_type": "execute_result"
    }
   ],
   "source": [
    "data2022.head()"
   ]
  },
  {
   "cell_type": "code",
   "execution_count": 11,
   "id": "14b7cfa4",
   "metadata": {},
   "outputs": [
    {
     "name": "stdout",
     "output_type": "stream",
     "text": [
      "<class 'pandas.core.frame.DataFrame'>\n",
      "RangeIndex: 569 entries, 0 to 568\n",
      "Data columns (total 2 columns):\n",
      " #   Column   Non-Null Count  Dtype  \n",
      "---  ------   --------------  -----  \n",
      " 0   клиент   569 non-null    object \n",
      " 1   Выручка  377 non-null    float64\n",
      "dtypes: float64(1), object(1)\n",
      "memory usage: 9.0+ KB\n"
     ]
    }
   ],
   "source": [
    "data2021.info()"
   ]
  },
  {
   "cell_type": "code",
   "execution_count": 16,
   "id": "e2d09d55",
   "metadata": {},
   "outputs": [
    {
     "data": {
      "text/plain": [
       "клиент       0\n",
       "Выручка    192\n",
       "dtype: int64"
      ]
     },
     "execution_count": 16,
     "metadata": {},
     "output_type": "execute_result"
    }
   ],
   "source": [
    "data2021.isnull().sum()"
   ]
  },
  {
   "cell_type": "code",
   "execution_count": 17,
   "id": "f3e1aa38",
   "metadata": {},
   "outputs": [
    {
     "data": {
      "text/html": [
       "<div>\n",
       "<style scoped>\n",
       "    .dataframe tbody tr th:only-of-type {\n",
       "        vertical-align: middle;\n",
       "    }\n",
       "\n",
       "    .dataframe tbody tr th {\n",
       "        vertical-align: top;\n",
       "    }\n",
       "\n",
       "    .dataframe thead th {\n",
       "        text-align: right;\n",
       "    }\n",
       "</style>\n",
       "<table border=\"1\" class=\"dataframe\">\n",
       "  <thead>\n",
       "    <tr style=\"text-align: right;\">\n",
       "      <th></th>\n",
       "      <th>клиент</th>\n",
       "      <th>Выручка</th>\n",
       "    </tr>\n",
       "  </thead>\n",
       "  <tbody>\n",
       "    <tr>\n",
       "      <th>0</th>\n",
       "      <td>Ника-Мед ООО г.Комсомольск-на-Амуре</td>\n",
       "      <td>1855434.0</td>\n",
       "    </tr>\n",
       "    <tr>\n",
       "      <th>1</th>\n",
       "      <td>ДентМастер ООО г.Биробиджан</td>\n",
       "      <td>935679.4</td>\n",
       "    </tr>\n",
       "    <tr>\n",
       "      <th>2</th>\n",
       "      <td>Авторская стоматология ООО г.Хабаровск</td>\n",
       "      <td>716589.0</td>\n",
       "    </tr>\n",
       "    <tr>\n",
       "      <th>3</th>\n",
       "      <td>Дентал-Сервис ООО г.Биробиджан</td>\n",
       "      <td>712288.0</td>\n",
       "    </tr>\n",
       "    <tr>\n",
       "      <th>4</th>\n",
       "      <td>Тари-КОМ ООО г.Комсомольск-на-Амуре</td>\n",
       "      <td>685871.3</td>\n",
       "    </tr>\n",
       "    <tr>\n",
       "      <th>...</th>\n",
       "      <td>...</td>\n",
       "      <td>...</td>\n",
       "    </tr>\n",
       "    <tr>\n",
       "      <th>542</th>\n",
       "      <td>Амур Дент ООО г.Хабаровск, КОНКУРЕНТ, торгующая</td>\n",
       "      <td>9766.0</td>\n",
       "    </tr>\n",
       "    <tr>\n",
       "      <th>549</th>\n",
       "      <td>Вышар Ольга Николаевна ИП г. Биробиджан</td>\n",
       "      <td>34350.0</td>\n",
       "    </tr>\n",
       "    <tr>\n",
       "      <th>556</th>\n",
       "      <td>АЙ КЬЮ СТОМ (лазер-дент), ООО г.Хабаровск Конк...</td>\n",
       "      <td>11200.0</td>\n",
       "    </tr>\n",
       "    <tr>\n",
       "      <th>557</th>\n",
       "      <td>Медтехника ТД АО г. Хабаровск, Конкурент,торгу...</td>\n",
       "      <td>7750.0</td>\n",
       "    </tr>\n",
       "    <tr>\n",
       "      <th>558</th>\n",
       "      <td>Фортемед ООО г.Хабаровск</td>\n",
       "      <td>500.0</td>\n",
       "    </tr>\n",
       "  </tbody>\n",
       "</table>\n",
       "<p>377 rows × 2 columns</p>\n",
       "</div>"
      ],
      "text/plain": [
       "                                                клиент    Выручка\n",
       "0                  Ника-Мед ООО г.Комсомольск-на-Амуре  1855434.0\n",
       "1                          ДентМастер ООО г.Биробиджан   935679.4\n",
       "2               Авторская стоматология ООО г.Хабаровск   716589.0\n",
       "3                       Дентал-Сервис ООО г.Биробиджан   712288.0\n",
       "4                  Тари-КОМ ООО г.Комсомольск-на-Амуре   685871.3\n",
       "..                                                 ...        ...\n",
       "542    Амур Дент ООО г.Хабаровск, КОНКУРЕНТ, торгующая     9766.0\n",
       "549            Вышар Ольга Николаевна ИП г. Биробиджан    34350.0\n",
       "556  АЙ КЬЮ СТОМ (лазер-дент), ООО г.Хабаровск Конк...    11200.0\n",
       "557  Медтехника ТД АО г. Хабаровск, Конкурент,торгу...     7750.0\n",
       "558                           Фортемед ООО г.Хабаровск      500.0\n",
       "\n",
       "[377 rows x 2 columns]"
      ]
     },
     "execution_count": 17,
     "metadata": {},
     "output_type": "execute_result"
    }
   ],
   "source": [
    "data2021.dropna()"
   ]
  },
  {
   "cell_type": "code",
   "execution_count": 12,
   "id": "b345152e",
   "metadata": {},
   "outputs": [
    {
     "name": "stdout",
     "output_type": "stream",
     "text": [
      "<class 'pandas.core.frame.DataFrame'>\n",
      "RangeIndex: 551 entries, 0 to 550\n",
      "Data columns (total 2 columns):\n",
      " #   Column   Non-Null Count  Dtype  \n",
      "---  ------   --------------  -----  \n",
      " 0   клиент   551 non-null    object \n",
      " 1   Выручка  372 non-null    float64\n",
      "dtypes: float64(1), object(1)\n",
      "memory usage: 8.7+ KB\n"
     ]
    }
   ],
   "source": [
    "data2022.info()"
   ]
  },
  {
   "cell_type": "code",
   "execution_count": 18,
   "id": "28dcf36c",
   "metadata": {},
   "outputs": [
    {
     "data": {
      "text/html": [
       "<div>\n",
       "<style scoped>\n",
       "    .dataframe tbody tr th:only-of-type {\n",
       "        vertical-align: middle;\n",
       "    }\n",
       "\n",
       "    .dataframe tbody tr th {\n",
       "        vertical-align: top;\n",
       "    }\n",
       "\n",
       "    .dataframe thead th {\n",
       "        text-align: right;\n",
       "    }\n",
       "</style>\n",
       "<table border=\"1\" class=\"dataframe\">\n",
       "  <thead>\n",
       "    <tr style=\"text-align: right;\">\n",
       "      <th></th>\n",
       "      <th>клиент</th>\n",
       "      <th>Выручка</th>\n",
       "    </tr>\n",
       "  </thead>\n",
       "  <tbody>\n",
       "    <tr>\n",
       "      <th>0</th>\n",
       "      <td>Мед ИНТЕЛЛЕКТ (Гармония), ООО г.Хабаровск</td>\n",
       "      <td>1285915.0</td>\n",
       "    </tr>\n",
       "    <tr>\n",
       "      <th>1</th>\n",
       "      <td>СТАТУС-ДЕНТ ООО г.Благовещенск</td>\n",
       "      <td>1054131.0</td>\n",
       "    </tr>\n",
       "    <tr>\n",
       "      <th>2</th>\n",
       "      <td>СК Доктор Ким ООО г.Хабаровск</td>\n",
       "      <td>1035386.0</td>\n",
       "    </tr>\n",
       "    <tr>\n",
       "      <th>3</th>\n",
       "      <td>Дента Премиум ООО г. Комсомольск-на-Амуре</td>\n",
       "      <td>716335.0</td>\n",
       "    </tr>\n",
       "    <tr>\n",
       "      <th>4</th>\n",
       "      <td>АФИ-ГРУПП ООО г.Благовещенск</td>\n",
       "      <td>641394.0</td>\n",
       "    </tr>\n",
       "    <tr>\n",
       "      <th>...</th>\n",
       "      <td>...</td>\n",
       "      <td>...</td>\n",
       "    </tr>\n",
       "    <tr>\n",
       "      <th>534</th>\n",
       "      <td>Птица Юлия Петровна ИП г.Хабаровск</td>\n",
       "      <td>48304.0</td>\n",
       "    </tr>\n",
       "    <tr>\n",
       "      <th>535</th>\n",
       "      <td>Ведищева Наталья Витальевна, г. Облучье, бахил...</td>\n",
       "      <td>30905.0</td>\n",
       "    </tr>\n",
       "    <tr>\n",
       "      <th>536</th>\n",
       "      <td>ГРАНДСТРОЙ ООО г.Хабаровск</td>\n",
       "      <td>9633.0</td>\n",
       "    </tr>\n",
       "    <tr>\n",
       "      <th>537</th>\n",
       "      <td>Воронцов Виталий Анатольевич, закрыта</td>\n",
       "      <td>3780.0</td>\n",
       "    </tr>\n",
       "    <tr>\n",
       "      <th>545</th>\n",
       "      <td>ДАН, ООО г. Комсомольск-на-Амуре КОНКУРЕНТ</td>\n",
       "      <td>15304.0</td>\n",
       "    </tr>\n",
       "  </tbody>\n",
       "</table>\n",
       "<p>372 rows × 2 columns</p>\n",
       "</div>"
      ],
      "text/plain": [
       "                                                клиент    Выручка\n",
       "0            Мед ИНТЕЛЛЕКТ (Гармония), ООО г.Хабаровск  1285915.0\n",
       "1                       СТАТУС-ДЕНТ ООО г.Благовещенск  1054131.0\n",
       "2                        СК Доктор Ким ООО г.Хабаровск  1035386.0\n",
       "3            Дента Премиум ООО г. Комсомольск-на-Амуре   716335.0\n",
       "4                         АФИ-ГРУПП ООО г.Благовещенск   641394.0\n",
       "..                                                 ...        ...\n",
       "534                 Птица Юлия Петровна ИП г.Хабаровск    48304.0\n",
       "535  Ведищева Наталья Витальевна, г. Облучье, бахил...    30905.0\n",
       "536                         ГРАНДСТРОЙ ООО г.Хабаровск     9633.0\n",
       "537              Воронцов Виталий Анатольевич, закрыта     3780.0\n",
       "545         ДАН, ООО г. Комсомольск-на-Амуре КОНКУРЕНТ    15304.0\n",
       "\n",
       "[372 rows x 2 columns]"
      ]
     },
     "execution_count": 18,
     "metadata": {},
     "output_type": "execute_result"
    }
   ],
   "source": [
    "data2022.dropna()"
   ]
  },
  {
   "cell_type": "code",
   "execution_count": 19,
   "id": "11d58353",
   "metadata": {},
   "outputs": [],
   "source": [
    "data2122 = pd.merge(data2021,data2022, how='outer', on='клиент')"
   ]
  },
  {
   "cell_type": "code",
   "execution_count": 20,
   "id": "768cdae4",
   "metadata": {},
   "outputs": [
    {
     "data": {
      "text/html": [
       "<div>\n",
       "<style scoped>\n",
       "    .dataframe tbody tr th:only-of-type {\n",
       "        vertical-align: middle;\n",
       "    }\n",
       "\n",
       "    .dataframe tbody tr th {\n",
       "        vertical-align: top;\n",
       "    }\n",
       "\n",
       "    .dataframe thead th {\n",
       "        text-align: right;\n",
       "    }\n",
       "</style>\n",
       "<table border=\"1\" class=\"dataframe\">\n",
       "  <thead>\n",
       "    <tr style=\"text-align: right;\">\n",
       "      <th></th>\n",
       "      <th>клиент</th>\n",
       "      <th>Выручка_x</th>\n",
       "      <th>Выручка_y</th>\n",
       "    </tr>\n",
       "  </thead>\n",
       "  <tbody>\n",
       "    <tr>\n",
       "      <th>0</th>\n",
       "      <td>Ника-Мед ООО г.Комсомольск-на-Амуре</td>\n",
       "      <td>1855434.0</td>\n",
       "      <td>2525459.00</td>\n",
       "    </tr>\n",
       "    <tr>\n",
       "      <th>1</th>\n",
       "      <td>ДентМастер ООО г.Биробиджан</td>\n",
       "      <td>935679.4</td>\n",
       "      <td>650044.00</td>\n",
       "    </tr>\n",
       "    <tr>\n",
       "      <th>2</th>\n",
       "      <td>Авторская стоматология ООО г.Хабаровск</td>\n",
       "      <td>716589.0</td>\n",
       "      <td>181349.01</td>\n",
       "    </tr>\n",
       "    <tr>\n",
       "      <th>3</th>\n",
       "      <td>Дентал-Сервис ООО г.Биробиджан</td>\n",
       "      <td>712288.0</td>\n",
       "      <td>618463.00</td>\n",
       "    </tr>\n",
       "    <tr>\n",
       "      <th>4</th>\n",
       "      <td>Тари-КОМ ООО г.Комсомольск-на-Амуре</td>\n",
       "      <td>685871.3</td>\n",
       "      <td>620380.00</td>\n",
       "    </tr>\n",
       "    <tr>\n",
       "      <th>5</th>\n",
       "      <td>Лобанов Евгений Александрович ИП г.Комсомольск...</td>\n",
       "      <td>634000.0</td>\n",
       "      <td>129658.00</td>\n",
       "    </tr>\n",
       "    <tr>\n",
       "      <th>6</th>\n",
       "      <td>СК Стоматологический центр Стом. клиника \"Зелё...</td>\n",
       "      <td>601150.0</td>\n",
       "      <td>522187.00</td>\n",
       "    </tr>\n",
       "    <tr>\n",
       "      <th>7</th>\n",
       "      <td>Стомадент ООО г.Хабаровск</td>\n",
       "      <td>572277.0</td>\n",
       "      <td>335712.00</td>\n",
       "    </tr>\n",
       "    <tr>\n",
       "      <th>8</th>\n",
       "      <td>Здоровье ООО г.Свободный</td>\n",
       "      <td>551035.0</td>\n",
       "      <td>277737.00</td>\n",
       "    </tr>\n",
       "    <tr>\n",
       "      <th>9</th>\n",
       "      <td>МАХАОН ООО  Еврейская область п.Николаевка</td>\n",
       "      <td>539421.0</td>\n",
       "      <td>93353.00</td>\n",
       "    </tr>\n",
       "  </tbody>\n",
       "</table>\n",
       "</div>"
      ],
      "text/plain": [
       "                                              клиент  Выручка_x   Выручка_y\n",
       "0                Ника-Мед ООО г.Комсомольск-на-Амуре  1855434.0  2525459.00\n",
       "1                        ДентМастер ООО г.Биробиджан   935679.4   650044.00\n",
       "2             Авторская стоматология ООО г.Хабаровск   716589.0   181349.01\n",
       "3                     Дентал-Сервис ООО г.Биробиджан   712288.0   618463.00\n",
       "4                Тари-КОМ ООО г.Комсомольск-на-Амуре   685871.3   620380.00\n",
       "5  Лобанов Евгений Александрович ИП г.Комсомольск...   634000.0   129658.00\n",
       "6  СК Стоматологический центр Стом. клиника \"Зелё...   601150.0   522187.00\n",
       "7                          Стомадент ООО г.Хабаровск   572277.0   335712.00\n",
       "8                           Здоровье ООО г.Свободный   551035.0   277737.00\n",
       "9         МАХАОН ООО  Еврейская область п.Николаевка   539421.0    93353.00"
      ]
     },
     "execution_count": 20,
     "metadata": {},
     "output_type": "execute_result"
    }
   ],
   "source": [
    "data2122.head(10)"
   ]
  },
  {
   "cell_type": "code",
   "execution_count": 21,
   "id": "0e6ecb55",
   "metadata": {},
   "outputs": [],
   "source": [
    "data2122.to_excel('miks.xlsx')"
   ]
  },
  {
   "cell_type": "code",
   "execution_count": 22,
   "id": "4f662206",
   "metadata": {},
   "outputs": [
    {
     "data": {
      "text/html": [
       "<div>\n",
       "<style scoped>\n",
       "    .dataframe tbody tr th:only-of-type {\n",
       "        vertical-align: middle;\n",
       "    }\n",
       "\n",
       "    .dataframe tbody tr th {\n",
       "        vertical-align: top;\n",
       "    }\n",
       "\n",
       "    .dataframe thead th {\n",
       "        text-align: right;\n",
       "    }\n",
       "</style>\n",
       "<table border=\"1\" class=\"dataframe\">\n",
       "  <thead>\n",
       "    <tr style=\"text-align: right;\">\n",
       "      <th></th>\n",
       "      <th>Выручка_x</th>\n",
       "      <th>Выручка_y</th>\n",
       "    </tr>\n",
       "  </thead>\n",
       "  <tbody>\n",
       "    <tr>\n",
       "      <th>count</th>\n",
       "      <td>3.930000e+02</td>\n",
       "      <td>3.880000e+02</td>\n",
       "    </tr>\n",
       "    <tr>\n",
       "      <th>mean</th>\n",
       "      <td>1.625064e+05</td>\n",
       "      <td>1.960739e+05</td>\n",
       "    </tr>\n",
       "    <tr>\n",
       "      <th>std</th>\n",
       "      <td>2.455084e+05</td>\n",
       "      <td>2.730469e+05</td>\n",
       "    </tr>\n",
       "    <tr>\n",
       "      <th>min</th>\n",
       "      <td>1.000000e+02</td>\n",
       "      <td>2.350000e+02</td>\n",
       "    </tr>\n",
       "    <tr>\n",
       "      <th>25%</th>\n",
       "      <td>1.814300e+04</td>\n",
       "      <td>3.237025e+04</td>\n",
       "    </tr>\n",
       "    <tr>\n",
       "      <th>50%</th>\n",
       "      <td>6.453300e+04</td>\n",
       "      <td>1.004440e+05</td>\n",
       "    </tr>\n",
       "    <tr>\n",
       "      <th>75%</th>\n",
       "      <td>2.213340e+05</td>\n",
       "      <td>2.408615e+05</td>\n",
       "    </tr>\n",
       "    <tr>\n",
       "      <th>max</th>\n",
       "      <td>2.265063e+06</td>\n",
       "      <td>2.525459e+06</td>\n",
       "    </tr>\n",
       "  </tbody>\n",
       "</table>\n",
       "</div>"
      ],
      "text/plain": [
       "          Выручка_x     Выручка_y\n",
       "count  3.930000e+02  3.880000e+02\n",
       "mean   1.625064e+05  1.960739e+05\n",
       "std    2.455084e+05  2.730469e+05\n",
       "min    1.000000e+02  2.350000e+02\n",
       "25%    1.814300e+04  3.237025e+04\n",
       "50%    6.453300e+04  1.004440e+05\n",
       "75%    2.213340e+05  2.408615e+05\n",
       "max    2.265063e+06  2.525459e+06"
      ]
     },
     "execution_count": 22,
     "metadata": {},
     "output_type": "execute_result"
    }
   ],
   "source": [
    "data2122.describe()"
   ]
  },
  {
   "cell_type": "code",
   "execution_count": 23,
   "id": "25e1608f",
   "metadata": {},
   "outputs": [
    {
     "name": "stdout",
     "output_type": "stream",
     "text": [
      "<class 'pandas.core.frame.DataFrame'>\n",
      "Int64Index: 601 entries, 0 to 600\n",
      "Data columns (total 3 columns):\n",
      " #   Column     Non-Null Count  Dtype  \n",
      "---  ------     --------------  -----  \n",
      " 0   клиент     601 non-null    object \n",
      " 1   Выручка_x  393 non-null    float64\n",
      " 2   Выручка_y  388 non-null    float64\n",
      "dtypes: float64(2), object(1)\n",
      "memory usage: 18.8+ KB\n"
     ]
    }
   ],
   "source": [
    "data2122.info()"
   ]
  },
  {
   "cell_type": "code",
   "execution_count": null,
   "id": "ce53cbdf",
   "metadata": {},
   "outputs": [],
   "source": []
  },
  {
   "cell_type": "code",
   "execution_count": null,
   "id": "d3682f66",
   "metadata": {},
   "outputs": [],
   "source": []
  }
 ],
 "metadata": {
  "kernelspec": {
   "display_name": "Python 3 (ipykernel)",
   "language": "python",
   "name": "python3"
  },
  "language_info": {
   "codemirror_mode": {
    "name": "ipython",
    "version": 3
   },
   "file_extension": ".py",
   "mimetype": "text/x-python",
   "name": "python",
   "nbconvert_exporter": "python",
   "pygments_lexer": "ipython3",
   "version": "3.9.12"
  }
 },
 "nbformat": 4,
 "nbformat_minor": 5
}
